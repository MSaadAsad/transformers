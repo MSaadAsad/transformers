{
  "cells": [
    {
      "cell_type": "markdown",
      "metadata": {
        "id": "ZwHQlKyqtd2r"
      },
      "source": [
        "## **Load Data**"
      ]
    },
    {
      "cell_type": "markdown",
      "metadata": {
        "id": "v0LyXiSqp4tt"
      },
      "source": [
        "This project uses this song lyrics dataset from [Kaggle]((https://www.kaggle.com/datasets/terminate9298/songs-lyrics?select=lyrics.csv) that includes lyrics from over 25,000 songs, mostly in English, by 500 unique artists. The dataset contains a total of 7,619,966 unique words, providing sufficient data to train a small language model. I employed byte-pair encoding to tokenize the dataset, which groups together frequently co-occurring characters. The total number of unique words in my dataset was just under 5,000."
      ]
    },
    {
      "cell_type": "code",
      "execution_count": 1,
      "metadata": {
        "colab": {
          "base_uri": "https://localhost:8080/"
        },
        "id": "q-mP1u6_q5FM",
        "outputId": "f89b9aea-9289-4cc1-936d-70011c6f3eb7"
      },
      "outputs": [
        {
          "output_type": "stream",
          "name": "stdout",
          "text": [
            "Collecting bpemb\n",
            "  Downloading bpemb-0.3.5-py3-none-any.whl (19 kB)\n",
            "Requirement already satisfied: gensim in /usr/local/lib/python3.10/dist-packages (from bpemb) (4.3.2)\n",
            "Requirement already satisfied: numpy in /usr/local/lib/python3.10/dist-packages (from bpemb) (1.25.2)\n",
            "Requirement already satisfied: requests in /usr/local/lib/python3.10/dist-packages (from bpemb) (2.31.0)\n",
            "Requirement already satisfied: sentencepiece in /usr/local/lib/python3.10/dist-packages (from bpemb) (0.1.99)\n",
            "Requirement already satisfied: tqdm in /usr/local/lib/python3.10/dist-packages (from bpemb) (4.66.2)\n",
            "Requirement already satisfied: scipy>=1.7.0 in /usr/local/lib/python3.10/dist-packages (from gensim->bpemb) (1.11.4)\n",
            "Requirement already satisfied: smart-open>=1.8.1 in /usr/local/lib/python3.10/dist-packages (from gensim->bpemb) (6.4.0)\n",
            "Requirement already satisfied: charset-normalizer<4,>=2 in /usr/local/lib/python3.10/dist-packages (from requests->bpemb) (3.3.2)\n",
            "Requirement already satisfied: idna<4,>=2.5 in /usr/local/lib/python3.10/dist-packages (from requests->bpemb) (3.7)\n",
            "Requirement already satisfied: urllib3<3,>=1.21.1 in /usr/local/lib/python3.10/dist-packages (from requests->bpemb) (2.0.7)\n",
            "Requirement already satisfied: certifi>=2017.4.17 in /usr/local/lib/python3.10/dist-packages (from requests->bpemb) (2024.2.2)\n",
            "Installing collected packages: bpemb\n",
            "Successfully installed bpemb-0.3.5\n"
          ]
        }
      ],
      "source": [
        "pip install bpemb"
      ]
    },
    {
      "cell_type": "code",
      "execution_count": 2,
      "metadata": {
        "id": "9Ujr-8mtuSoA"
      },
      "outputs": [],
      "source": [
        "from bs4 import BeautifulSoup\n",
        "import os\n",
        "import numpy as np\n",
        "import torch\n",
        "import torch.nn as nn\n",
        "import torch.optim as optim\n",
        "from torch.nn.utils import prune\n",
        "import math\n",
        "from torch.utils.tensorboard import SummaryWriter\n",
        "from torch.utils.data import DataLoader\n",
        "from datetime import datetime\n",
        "from torch.utils.data import Dataset\n",
        "from collections import Counter\n",
        "from typing import List\n",
        "from transformers import AutoTokenizer\n",
        "import pandas as pd\n",
        "import re\n",
        "from bpemb import BPEmb"
      ]
    },
    {
      "cell_type": "code",
      "execution_count": 3,
      "metadata": {
        "id": "6y1fWw4kXPim",
        "colab": {
          "base_uri": "https://localhost:8080/"
        },
        "outputId": "0752d181-5f6e-4060-90c4-b93f23221a39"
      },
      "outputs": [
        {
          "output_type": "stream",
          "name": "stdout",
          "text": [
            "Total number of tokens: 7619966\n",
            "Maximum number of tokens in 'formatted': 3708\n",
            "Number of unique artists: 542\n"
          ]
        }
      ],
      "source": [
        "# Load data from CSV, ignoring malformed lines\n",
        "df = pd.read_csv(\"/content/lyrics.csv\", on_bad_lines='skip')\n",
        "\n",
        "# Remove the 'link' column as it's not needed\n",
        "df = df.drop(columns=['link'])\n",
        "\n",
        "# Calculate number of words in 'lyrics' assuming space as delimiter\n",
        "df['token_count'] = df['lyrics'].apply(lambda x: len(x.split()))\n",
        "print(\"Total number of tokens:\", df['token_count'].sum())\n",
        "\n",
        "# Clean the lyrics text using a predefined function\n",
        "df['artist'] = df['artist'].str.replace(' Lyrics', '')\n",
        "df['formatted'] = df.apply(lambda row: row['artist'] + (\" \" + row['lyrics'] if row['lyrics'] else \"\"), axis=1)\n",
        "df['formatted_token_count'] = df['formatted'].apply(lambda x: len(x.split()))\n",
        "max_formatted_tokens = df['formatted_token_count'].max()\n",
        "print(\"Maximum number of tokens in 'formatted':\", max_formatted_tokens)\n",
        "\n",
        "# Determine and print the number of unique artists\n",
        "unique_artists = df['artist'].nunique()\n",
        "print(\"Number of unique artists:\", unique_artists)\n",
        "\n",
        "# Convert the 'formatted' column to lowercase\n",
        "df['formatted'] = df['formatted'].str.lower()\n",
        "\n",
        "# Remove unneeded columns to tidy up the DataFrame\n",
        "df = df.drop(columns=['artist', 'token_count', 'lyrics', 'song_name', 'Unnamed: 0'])"
      ]
    },
    {
      "cell_type": "code",
      "execution_count": 4,
      "metadata": {
        "id": "TxNcpUqhvNJA"
      },
      "outputs": [],
      "source": [
        "class BPETokenizer:\n",
        "    \"\"\"\n",
        "    Tokenizer based on Byte-Pair Encoding (BPE) to manage vocabulary and encoding/decoding of text.\n",
        "    \"\"\"\n",
        "    def __init__(self, lang=\"en\", vs=20000):\n",
        "        \"\"\"\n",
        "        Initialize the BPE tokenizer with specified language and vocabulary size, adding special tokens.\n",
        "        \"\"\"\n",
        "        self.bpemb = BPEmb(lang=lang, vs=vs)\n",
        "        self.vocab_size = self.bpemb.vocab_size + 2  # Account for PAD and UNK tokens\n",
        "\n",
        "        # Mapping from words to indices, offset by 2 to accommodate special tokens\n",
        "        self.word_index = {word: idx + 2 for idx, word in enumerate(self.bpemb.words)}\n",
        "        self.word_index[\"<PAD>\"] = 0\n",
        "        self.word_index[\"<UNK>\"] = 1\n",
        "\n",
        "        # Reverse mapping from indices to words\n",
        "        self.index_word = {idx: word for word, idx in self.word_index.items()}\n",
        "\n",
        "    def encode(self, text):\n",
        "        \"\"\"\n",
        "        Convert text to a list of indices. Unknown words are mapped to <UNK>.\n",
        "        \"\"\"\n",
        "        return [self.word_index.get(word, 1) for word in self.bpemb.encode(text)]\n",
        "\n",
        "    def decode(self, indices):\n",
        "        \"\"\"\n",
        "        Convert a list of indices back to text, skipping special tokens.\n",
        "        \"\"\"\n",
        "        return ''.join(self.index_word.get(idx, \"<UNK>\") for idx in indices if idx > 1)\n",
        "\n",
        "    def get_vocab_size(self):\n",
        "        \"\"\"\n",
        "        Return the total vocabulary size, including special tokens.\n",
        "        \"\"\"\n",
        "        return self.vocab_size\n",
        "\n",
        "\n",
        "class TransformersTextDataset(Dataset):\n",
        "    \"\"\"\n",
        "    Dataset class for text data prepared for training transformer models, handling tokenization and segmentation.\n",
        "    \"\"\"\n",
        "    def __init__(self, texts, seq_length, lang=\"en\", vs=20000):\n",
        "        \"\"\"\n",
        "        Initialize dataset with texts, sequence length, and tokenizer parameters.\n",
        "        \"\"\"\n",
        "        self.tokenizer = BPETokenizer(lang=lang, vs=vs)\n",
        "        self.seq_length = seq_length\n",
        "        self.tokenized_segments = self.tokenize_and_segment_texts(texts)\n",
        "\n",
        "    def tokenize_and_segment_texts(self, texts):\n",
        "        \"\"\"\n",
        "        Tokenize input texts and split into fixed-size segments, padding as needed.\n",
        "        \"\"\"\n",
        "        tokenized_segments = []\n",
        "        pad_id = self.tokenizer.word_index[\"<PAD>\"]\n",
        "        for text in texts:\n",
        "            encoded = self.tokenizer.encode(text)\n",
        "            padded_length = (len(encoded) + self.seq_length - 1) // self.seq_length * self.seq_length\n",
        "            encoded.extend([pad_id] * (padded_length - len(encoded)))\n",
        "\n",
        "            chunks = [encoded[i:i + self.seq_length] for i in range(0, len(encoded), self.seq_length)]\n",
        "            tokenized_segments.extend(chunks)\n",
        "        return tokenized_segments\n",
        "\n",
        "    def unique_words(self):\n",
        "        \"\"\"\n",
        "        Calculate the number of unique words in the tokenized segments, excluding special tokens.\n",
        "        \"\"\"\n",
        "        return len(set(word for segment in self.tokenized_segments for word in segment if word > 1))\n",
        "\n",
        "    def __len__(self):\n",
        "        \"\"\"\n",
        "        Return the number of segments in the dataset.\n",
        "        \"\"\"\n",
        "        return len(self.tokenized_segments)\n",
        "\n",
        "    def __getitem__(self, idx):\n",
        "        \"\"\"\n",
        "        Retrieve a pair of input-target sequences from the dataset by index.\n",
        "        \"\"\"\n",
        "        segment = self.tokenized_segments[idx]\n",
        "        return torch.tensor(segment[:-1], dtype=torch.long), torch.tensor(segment[1:], dtype=torch.long)"
      ]
    },
    {
      "cell_type": "code",
      "execution_count": 5,
      "metadata": {
        "id": "82ePERSE4gkl",
        "colab": {
          "base_uri": "https://localhost:8080/"
        },
        "outputId": "910010ec-af6e-4fcd-a8d2-0eeed08d9364"
      },
      "outputs": [
        {
          "output_type": "stream",
          "name": "stdout",
          "text": [
            "downloading https://nlp.h-its.org/bpemb/en/en.wiki.bpe.vs5000.model\n"
          ]
        },
        {
          "output_type": "stream",
          "name": "stderr",
          "text": [
            "100%|██████████| 315918/315918 [00:00<00:00, 705087.12B/s]\n"
          ]
        },
        {
          "output_type": "stream",
          "name": "stdout",
          "text": [
            "downloading https://nlp.h-its.org/bpemb/en/en.wiki.bpe.vs5000.d100.w2v.bin.tar.gz\n"
          ]
        },
        {
          "output_type": "stream",
          "name": "stderr",
          "text": [
            "100%|██████████| 1888515/1888515 [00:00<00:00, 2091068.74B/s]\n"
          ]
        },
        {
          "output_type": "stream",
          "name": "stdout",
          "text": [
            "Number of unique words in dataset: 4859\n",
            "Vocabulary size of tokenizer: 5002\n",
            "Training dataset size: 31016\n",
            "Test dataset size: 7754\n"
          ]
        }
      ],
      "source": [
        "texts = df['formatted'].tolist()\n",
        "\n",
        "dataset = TransformersTextDataset(texts, seq_length=512, vs=5000)\n",
        "print(f'Number of unique words in dataset: {dataset.unique_words()}')\n",
        "print(f'Vocabulary size of tokenizer: {dataset.tokenizer.get_vocab_size()}')\n",
        "\n",
        "# Calculate train/test split sizes\n",
        "train_size = int(0.8 * len(dataset))\n",
        "test_size = len(dataset) - train_size\n",
        "\n",
        "# Randomly split dataset into training and testing parts\n",
        "train_dataset, test_dataset = torch.utils.data.random_split(dataset, [train_size, test_size])\n",
        "\n",
        "# Output sizes of the splits\n",
        "print(f'Training dataset size: {len(train_dataset)}')\n",
        "print(f'Test dataset size: {len(test_dataset)}')\n",
        "\n",
        "# Create DataLoaders for batch processing of training and testing datasets\n",
        "train_loader = DataLoader(train_dataset, batch_size=128, shuffle=True)\n",
        "test_loader = DataLoader(test_dataset, batch_size=128, shuffle=False)"
      ]
    },
    {
      "cell_type": "code",
      "execution_count": 6,
      "metadata": {
        "id": "7CjZ1AghvlU3",
        "colab": {
          "base_uri": "https://localhost:8080/"
        },
        "outputId": "2c0c72de-b9ae-47f9-8ea9-5be71c81d86e"
      },
      "outputs": [
        {
          "output_type": "stream",
          "name": "stdout",
          "text": [
            "Using device: cuda\n"
          ]
        }
      ],
      "source": [
        "# Use GPU if available (I used L4 from Google Colab)\n",
        "device = torch.device(\"cuda\" if torch.cuda.is_available() else \"cpu\")\n",
        "print(f\"Using device: {device}\")"
      ]
    },
    {
      "cell_type": "markdown",
      "metadata": {
        "id": "CRiGODMEgmyW"
      },
      "source": [
        "## **GQA Transformer**"
      ]
    },
    {
      "cell_type": "markdown",
      "metadata": {
        "id": "igxo72OgrONz"
      },
      "source": [
        "$$\\text{Attention}(Q, K, V) = \\text{softmax}\\left(\\frac{QK^T}{\\sqrt{d_k}}\\right)V$$\n",
        "\n",
        "The efficiency of transformer models is largely governed by the computation of the attention matrix, where each query is dot-producted with a key, comparing each token to every other token within the layer. This results in a computational complexity of $O(n^2)$, where $n$ is the dimension of the model, and becomes a major bottleneck when training larger models, particularly those with more heads or larger context sizes.\n",
        "\n",
        "Techniques such as sparse attention and flash attention are designed to tackle this $O(n^2)$ scaling have already been used in the past. Here we will look at two very recent techniques GQA and MoD.\n",
        "In [grouped query attention](https://arxiv.org/pdf/2305.13245.pdf), instead of maintaining a unique key matrix for each head in a standard multi-head layer, we use fewer key matrices, with multiple query matrices interacting with the same key. This configuration reduces the number of parameters and accelerates training time. By grouping the queries into $G$ groups, we effectively reduce complexity; when $G$ equals the number of heads, the architecture reverts to that of a standard transformer. Changing the number of Heads is a tradeoff between speed and accuracy, with lower numbers leading to signifiantly faster run times yet with poorer accuracy.\n",
        "\n",
        "For my implementation, I adapted a component from the in-development [grouped-query-attention-library](https://github.com/fkodom/grouped-query-attention-pytorch/blob/main/README.md) to include a Grouped Query (GQ) Attention block in each transformer layer, replacing the conventional multi-head setup. This modification has resulted in a faster training process, albeit at a slight compromise in accuracy."
      ]
    },
    {
      "cell_type": "markdown",
      "metadata": {
        "id": "-G9eRrfuj2p0"
      },
      "source": [
        "### **Existing Code**"
      ]
    },
    {
      "cell_type": "code",
      "execution_count": 7,
      "metadata": {
        "colab": {
          "base_uri": "https://localhost:8080/"
        },
        "id": "JvRjQIifSh5Z",
        "outputId": "49549be7-1ea9-49a4-e889-c7362be08438"
      },
      "outputs": [
        {
          "output_type": "stream",
          "name": "stdout",
          "text": [
            "Collecting einops\n",
            "  Downloading einops-0.7.0-py3-none-any.whl (44 kB)\n",
            "\u001b[?25l     \u001b[90m━━━━━━━━━━━━━━━━━━━━━━━━━━━━━━━━━━━━━━━━\u001b[0m \u001b[32m0.0/44.6 kB\u001b[0m \u001b[31m?\u001b[0m eta \u001b[36m-:--:--\u001b[0m\r\u001b[2K     \u001b[90m━━━━━━━━━━━━━━━━━━━━━━━━━━━━━━━━━━━━━━━━\u001b[0m \u001b[32m44.6/44.6 kB\u001b[0m \u001b[31m2.0 MB/s\u001b[0m eta \u001b[36m0:00:00\u001b[0m\n",
            "\u001b[?25hInstalling collected packages: einops\n",
            "Successfully installed einops-0.7.0\n"
          ]
        }
      ],
      "source": [
        "pip install einops"
      ]
    },
    {
      "cell_type": "code",
      "execution_count": 8,
      "metadata": {
        "id": "7wW0ga4ij5Sz"
      },
      "outputs": [],
      "source": [
        "from typing import Optional, Tuple, Union\n",
        "import torch\n",
        "import torch.nn.functional as F\n",
        "from einops import einsum, rearrange\n",
        "from torch import Tensor, nn\n",
        "\n",
        "def scaled_dot_product_gqa(\n",
        "    query: Tensor,\n",
        "    key: Tensor,\n",
        "    value: Tensor,\n",
        "    dropout: float = 0.1,\n",
        "    scale: Optional[float] = None,\n",
        "    mask: Optional[Tensor] = None,\n",
        "    is_causal: Optional[bool] = True,\n",
        "    need_weights: bool = False,\n",
        "    average_attn_weights: bool = False,\n",
        "    force_grouped: bool = False,\n",
        "):\n",
        "    \"\"\"Scaled dot product attention with support for grouped queries.\n",
        "\n",
        "    Einstein notation:\n",
        "    - b: batch size\n",
        "    - n / s: sequence length\n",
        "    - h: number of heads\n",
        "    - g: number of groups\n",
        "    - d: dimension of query/key/value\n",
        "\n",
        "    Args:\n",
        "        query: Query tensor of shape (b, n, h, d)\n",
        "        key: Key tensor of shape (b, s, h, d)\n",
        "        value: Value tensor of shape (b, s, h, d)\n",
        "        dropout: Dropout probability (default: 0.0)\n",
        "        scale: Scale factor for query (default: d_query ** 0.5)\n",
        "        mask: Mask tensor of shape (b, n, s) or (b, s). If 'ndim == 2', the mask is\n",
        "            applied to all 'n' rows of the attention matrix. (default: None)\n",
        "        force_grouped: If True, apply grouped-query attention even if the number of\n",
        "            heads is equal for query, key, and value. (default: False)\n",
        "\n",
        "    Returns:\n",
        "        2-tuple of:\n",
        "        - Attention output with shape (b, n, h, d)\n",
        "        - (Optional) Attention weights with shape (b, h, n, s). Only returned if\n",
        "          'need_weights' is True.\n",
        "    \"\"\"\n",
        "    if (mask is not None) and (is_causal is not None):\n",
        "        raise ValueError(\n",
        "            \"Only one of 'mask' and 'is_causal' should be provided, but got both.\"\n",
        "        )\n",
        "    elif not query.ndim == key.ndim == value.ndim == 4:\n",
        "        raise ValueError(\n",
        "            f\"Expected query, key, and value to be 4-dimensional, but got shapes \"\n",
        "            f\"{query.shape}, {key.shape}, and {value.shape}.\"\n",
        "        )\n",
        "\n",
        "    # Move sequence length dimension to axis 2.\n",
        "    # This makes the attention operations below *much* faster.\n",
        "    query = rearrange(query, \"b n h d -> b h n d\")\n",
        "    key = rearrange(key, \"b s h d -> b h s d\")\n",
        "    value = rearrange(value, \"b s h d -> b h s d\")\n",
        "\n",
        "    bq, hq, nq, dq = query.shape\n",
        "    bk, hk, nk, dk = key.shape\n",
        "    bv, hv, nv, dv = value.shape\n",
        "    if not (bq == bk == bv and dq == dk == dv):\n",
        "        raise ValueError(\n",
        "            \"Expected query, key, and value to have the same batch size (dim=0) and \"\n",
        "            f\"embedding dimension (dim=3), but got query: {query.shape}, \"\n",
        "            f\"key: {key.shape}, and value: {value.shape}.\"\n",
        "        )\n",
        "    elif (hk != hv) or (nk != nv):\n",
        "        raise ValueError(\n",
        "            \"Expected key and value to have the same size in dimensions 1 and 2, but \"\n",
        "            f\"got key: {key.shape} and value: {value.shape}.\"\n",
        "        )\n",
        "    elif hq % hk != 0:\n",
        "        raise ValueError(\n",
        "            \"Expected query heads to be a multiple of key/value heads, but got \"\n",
        "            f\"query: {query.shape} and key/value: {key.shape}.\"\n",
        "        )\n",
        "\n",
        "    if scale is None:\n",
        "        scale = query.size(-1) ** 0.5\n",
        "    query = query / scale\n",
        "\n",
        "    num_head_groups = hq // hk\n",
        "    if num_head_groups > 1 or force_grouped:\n",
        "        # Separate the query heads into 'num_head_groups' chunks, and fold the group\n",
        "        # dimension into the batch dimension.  This allows us to compute the attention\n",
        "        # for each head in parallel, then sum over all of the groups at the end.\n",
        "        query = rearrange(query, \"b (h g) n d -> b g h n d\", g=num_head_groups)\n",
        "        similarity = einsum(query, key, \"b g h n d, b h s d -> b h n s\")\n",
        "    else:\n",
        "        # If the number of query/key heads is equal, we can skip grouping the queries,\n",
        "        # and just use the standard sdot product attention.\n",
        "        similarity = einsum(query, key, \"b h n d, b h s d -> b h n s\")\n",
        "\n",
        "    if is_causal:\n",
        "        # Mask out the upper triangular portion of the attention matrix. This prevents\n",
        "        # the model from attending to tokens in the future.\n",
        "        mask = torch.ones(\n",
        "            (bq, nq, nk),\n",
        "            device=query.device,\n",
        "            dtype=torch.bool,\n",
        "        ).tril_()\n",
        "\n",
        "    if mask is not None:\n",
        "        # Expand mask to match the shape of the attention matrix.\n",
        "        # If mask is 2D, assume that it is applied to the key/value sequence dimension.\n",
        "        # Else if mask is 3D, assume that it is applied to the query/key/value sequence\n",
        "        # dimension for all attention heads.\n",
        "        #\n",
        "        # Users could also provide a 4D mask, which is applied to the query/key/value\n",
        "        # sequence dimension for each attention head (though I don't have a particular\n",
        "        # use case in mind for that).\n",
        "        if mask.ndim == 2:\n",
        "            mask = rearrange(mask, \"b s -> b () () s\")\n",
        "        elif mask.ndim == 3:\n",
        "            mask = rearrange(mask, \"b n s -> b () n s\")\n",
        "        # Mask similarity values by setting them to negative infinity.  This guarantees\n",
        "        # that they will not contribute to the softmax computation below.\n",
        "        similarity.masked_fill_(~mask, torch.finfo(similarity.dtype).min)\n",
        "\n",
        "    attention = F.softmax(similarity / scale, dim=-1)\n",
        "    if 0.1 > 0.0:\n",
        "        attention = F.dropout(attention, p=0.1)\n",
        "\n",
        "    # Apply attention matrix to the value Tensor.\n",
        "    out = einsum(attention, value, \"b h n s, b h s d -> b h n d\")\n",
        "    # Move head dimension back to axis 2\n",
        "    out = rearrange(out, \"b h n d -> b n h d\")\n",
        "\n",
        "    attn_weights: Optional[Tensor] = None\n",
        "    if need_weights:\n",
        "        # Move the sequence dimensions back to positions 1, 2.  Move the head dimension\n",
        "        # to position 3.  This more closely matches the return shape of the attention\n",
        "        # output: (b, n, h, d).\n",
        "        attn_weights = rearrange(attention, \"b h n s -> b n s h\")\n",
        "        if average_attn_weights:\n",
        "            attn_weights = attn_weights.mean(dim=1)\n",
        "\n",
        "    return out, attn_weights\n",
        "\n",
        "\n",
        "class MultiheadGQA(nn.Module):\n",
        "\n",
        "    def __init__(\n",
        "        self,\n",
        "        embed_dim: int,\n",
        "        query_heads: int,\n",
        "        kv_heads: int,\n",
        "        dropout: float = 0.1,\n",
        "        bias: bool = True,\n",
        "        layer_norm: bool = True,\n",
        "        layer_norm_eps: float = 1e-5,\n",
        "        gamma_init: float = 1.0,\n",
        "        device: Optional[Union[torch.device, str]] = None,\n",
        "        dtype: Optional[torch.dtype] = None,\n",
        "        batch_first: bool = False\n",
        "    ):\n",
        "        super().__init__()\n",
        "        self.query_heads = query_heads\n",
        "        self.kv_heads = kv_heads\n",
        "        self.dropout = dropout\n",
        "        self.layer_norm = layer_norm\n",
        "        self.gamma_init = gamma_init\n",
        "        self.batch_first = batch_first\n",
        "\n",
        "        if self.query_heads % self.kv_heads != 0:\n",
        "            raise ValueError(\n",
        "                f\"query_heads ({query_heads}) must be divisible by \"\n",
        "                f\"kv_heads ({kv_heads})\"\n",
        "            )\n",
        "        elif (embed_dim % self.query_heads != 0) or (embed_dim % self.kv_heads != 0):\n",
        "            raise ValueError(\n",
        "                f\"embed_dim ({embed_dim}) must be divisible by \"\n",
        "                f\"query_heads ({query_heads}) and kv_heads ({kv_heads})\"\n",
        "            )\n",
        "\n",
        "        head_dim = embed_dim // query_heads\n",
        "        if not head_dim % 8 == 0:\n",
        "            raise ValueError(\n",
        "                f\"head_dim (embed_dim / num_heads = {head_dim}) must be divisible by 8\"\n",
        "            )\n",
        "        if not head_dim <= 128:\n",
        "            raise ValueError(\n",
        "                f\"head_dim (embed_dim / num_heads = {head_dim}) must be <= 128\"\n",
        "            )\n",
        "\n",
        "        # Query projection layer is the same as in vanilla MHA.\n",
        "        self.q_proj = nn.Linear(\n",
        "            embed_dim, embed_dim, bias=bias, device=device, dtype=dtype\n",
        "        )\n",
        "        # Key/value projection layers have a smaller output dimension, so that\n",
        "        # the we have fewer key/value attention heads after reshaping.\n",
        "        kv_embed_dim = embed_dim // query_heads * kv_heads\n",
        "        self.k_proj = nn.Linear(\n",
        "            embed_dim, kv_embed_dim, bias=bias, device=device, dtype=dtype\n",
        "        )\n",
        "        self.v_proj = nn.Linear(\n",
        "            embed_dim, kv_embed_dim, bias=bias, device=device, dtype=dtype\n",
        "        )\n",
        "        self.norm: Optional[nn.LayerNorm] = None\n",
        "        if layer_norm:\n",
        "            self.norm = nn.LayerNorm(\n",
        "                kv_embed_dim, eps=layer_norm_eps, device=device, dtype=dtype\n",
        "            )\n",
        "\n",
        "        self.out_proj = nn.Linear(\n",
        "            kv_embed_dim, embed_dim, bias=bias, device=device, dtype=dtype\n",
        "        )\n",
        "\n",
        "        self._reset_parameters()\n",
        "\n",
        "    def _reset_parameters(self):\n",
        "        nn.init.xavier_normal_(self.q_proj.weight)\n",
        "        if self.q_proj.bias is not None:\n",
        "            nn.init.constant_(self.q_proj.bias, 0)\n",
        "        nn.init.xavier_normal_(self.k_proj.weight)\n",
        "        if self.k_proj.bias is not None:\n",
        "            nn.init.constant_(self.k_proj.bias, 0)\n",
        "\n",
        "        nn.init.xavier_normal_(self.v_proj.weight, gain=self.gamma_init)\n",
        "        if self.v_proj.bias is not None:\n",
        "            nn.init.constant_(self.v_proj.bias, 0)\n",
        "        nn.init.xavier_normal_(self.out_proj.weight, gain=self.gamma_init)\n",
        "        if self.out_proj.bias is not None:\n",
        "            nn.init.constant_(self.out_proj.bias, 0)\n",
        "\n",
        "    def forward(\n",
        "        self,\n",
        "        query: Tensor,\n",
        "        key: Tensor,\n",
        "        value: Tensor,\n",
        "        need_weights: bool = False,\n",
        "        # TODO\n",
        "        # attn_mask: Optional[Tensor] = None,\n",
        "        is_causal: bool = True,\n",
        "        average_attn_weights: bool = False,\n",
        "    ) -> Tuple[Tensor, Optional[Tensor]]:\n",
        "        # Notation:\n",
        "        #   b - batch size\n",
        "        #   n - sequence length\n",
        "        #   h - number of heads\n",
        "        #   d - embedding dimension\n",
        "        #\n",
        "        # Input shape: (b, n, d)\n",
        "        q: Tensor = self.q_proj(query)\n",
        "        k: Tensor = self.k_proj(key)\n",
        "        v: Tensor = self.v_proj(value)\n",
        "\n",
        "        # Unfold 'd' dimension into 'h' separate attention heads.\n",
        "        q = rearrange(q, \"b n (h d) -> b n h d\", h=self.query_heads)\n",
        "        k = rearrange(k, \"b n (h d) -> b n h d\", h=self.kv_heads)\n",
        "        v = rearrange(v, \"b n (h d) -> b n h d\", h=self.kv_heads)\n",
        "        # Apply attention, then fold 'h' attention heads back into 'd'.\n",
        "        x, attn = scaled_dot_product_gqa(\n",
        "            query=q,\n",
        "            key=k,\n",
        "            value=v,\n",
        "            # TODO\n",
        "            # mask=attn_mask,\n",
        "            is_causal=is_causal,\n",
        "            need_weights=need_weights,\n",
        "            average_attn_weights=average_attn_weights,\n",
        "            force_grouped=False,\n",
        "        )\n",
        "        x = rearrange(x, \"b n h d -> b n (h d)\")\n",
        "\n",
        "        if self.layer_norm:\n",
        "            assert self.norm is not None\n",
        "            x = self.norm(x)\n",
        "        # Linear projection on attention outputs.\n",
        "        x = self.out_proj(x)\n",
        "\n",
        "        return x, attn"
      ]
    },
    {
      "cell_type": "markdown",
      "metadata": {
        "id": "x0DkFcA2onyg"
      },
      "source": [
        "## **MoD Transformer**"
      ]
    },
    {
      "cell_type": "markdown",
      "metadata": {
        "id": "xAoYYTa1reLv"
      },
      "source": [
        "A recent advancement aimed at addressing the scalability challenges of the self-attention layer is the [Mixture of Depths](https://arxiv.org/pdf/2404.02258.pdf) routing. This technique involves a routing layer that learns to select only the top p most effective tokens for processing, with research suggesting that the optimal value for p is 12.5%. Tokens not selected are passed directly to the subsequent layer via a residual connection. This approach increases the number of parameters linearly with n, where n represents the number of tokens in an attention head, but it reduces the computational load by some factor of n^2, enhancing computational efficiency but also learning to pay attention intelligently. The resulting network generally achieves a loss comparable to that of a slower, conventional vanilla network. Typically, this routing is applied every other layer to preserve essential information. In my project, I adapted an implementation by [George Grigorev](https://github.com/thepowerfuldeez/OLMo/blob/main/olmo/mod.py) from GitHub to successfully employ this technique, which significantly accelerated the training process. The implementation uses a MoD wrapper layer which applies the routing before passing the tokens to a standard transformer block."
      ]
    },
    {
      "cell_type": "markdown",
      "metadata": {
        "id": "XgclGQv826GS"
      },
      "source": [
        "### **Existing Code**"
      ]
    },
    {
      "cell_type": "code",
      "execution_count": 9,
      "metadata": {
        "id": "ywhf5gQVWdLU"
      },
      "outputs": [],
      "source": [
        "import torch\n",
        "import torch.nn as nn\n",
        "import torch.optim as optim\n",
        "from torch.utils.data import DataLoader\n",
        "from datetime import datetime\n",
        "from torch.utils.tensorboard import SummaryWriter"
      ]
    },
    {
      "cell_type": "code",
      "execution_count": 10,
      "metadata": {
        "id": "PVQbtu7sPLTw"
      },
      "outputs": [],
      "source": [
        "import torch\n",
        "import torch.nn as nn\n",
        "\n",
        "class MoD(nn.Module):\n",
        "    \"\"\"The Mixtures of Depth Block that dynamically selects which tokens to process in a block.\n",
        "    Wraps around a decoder block to allow for token dropping, optimizing computational resources.\n",
        "    \"\"\"\n",
        "\n",
        "    def __init__(self, config, block):\n",
        "        super().__init__()\n",
        "        self.block = block  # block is attention + MLP\n",
        "        self.capacity_factor = config.mod_capacity_factor\n",
        "        self.top_k = int(self.capacity_factor * config.max_sequence_length)\n",
        "\n",
        "        if self.capacity_factor < 1:\n",
        "            # Initialize routers only if capacity factor is less than 1\n",
        "            self.mod_router = nn.Linear(config.d_model, 1, bias=False)\n",
        "            self.mlp_router = nn.Linear(config.d_model, 1, bias=False)\n",
        "\n",
        "        # BCE loss is used for inference\n",
        "        self.bce_loss = nn.BCEWithLogitsLoss()\n",
        "\n",
        "    def reset_parameters(self):\n",
        "        self.block.reset_parameters()\n",
        "        if self.capacity_factor < 1:\n",
        "            self.mod_router.reset_parameters()\n",
        "            self.mlp_router.reset_parameters()\n",
        "\n",
        "    def set_activation_checkpointing(self, strategy):\n",
        "        self.block.set_activation_checkpointing(strategy)\n",
        "\n",
        "    def get_aux_loss(self, x, targets):\n",
        "        if self.capacity_factor < 1:\n",
        "            B, T, C = x.shape\n",
        "            mlp_router_logits = self.mlp_router(x.detach().view(B * T, -1))\n",
        "            return self.bce_loss(mlp_router_logits.view(-1), targets)\n",
        "        else:\n",
        "            return torch.tensor(0.0).to(x.device)\n",
        "\n",
        "    def forward(self, x, memory=None, **kwargs):\n",
        "        B, T, C = x.shape\n",
        "        if self.capacity_factor < 1:\n",
        "            top_k = min(self.top_k, int(self.capacity_factor * T))\n",
        "\n",
        "            \"\"\"STEP 1: get logits and top_k tokens\"\"\"\n",
        "            router_logits = self.mod_router(x)\n",
        "            weights, selected_tokens = torch.topk(router_logits, top_k, dim=1, sorted=False)\n",
        "\n",
        "            # 0, if not in topk tokens, 1 else\n",
        "            mlp_targets = torch.zeros_like(router_logits).view(-1)\n",
        "            mlp_targets[selected_tokens.view(-1)] = 1.0\n",
        "            aux_loss = self.get_aux_loss(x, mlp_targets)\n",
        "\n",
        "            # IMPORTANT: need to sort indices to keep causal order for those tokens that\n",
        "            # are processed in a block\n",
        "            selected_tokens, index = torch.sort(selected_tokens, dim=1)\n",
        "            weights = torch.gather(weights, dim=1, index=index)\n",
        "\n",
        "            \"\"\"STEP 2: expand indices to process batches with _reduced_ seqlen\"\"\"\n",
        "            indices_expanded = selected_tokens.expand(-1, -1, C)\n",
        "            top_k_tokens = torch.gather(x, 1, indices_expanded)\n",
        "\n",
        "            # Make sure to pass both 'tgt' and 'memory' to the TransformerDecoderLayer\n",
        "            if memory is None:\n",
        "                memory = top_k_tokens  # Use self-attention if no external memory is provided\n",
        "\n",
        "            top_k_tokens_processed, cache = self.block(top_k_tokens, memory, **kwargs)\n",
        "\n",
        "            \"\"\"STEP 3: combine results\"\"\"\n",
        "            x = torch.scatter_add(\n",
        "                x,\n",
        "                dim=1,\n",
        "                index=indices_expanded,\n",
        "                src=top_k_tokens_processed * weights,\n",
        "            )\n",
        "            return x, cache, aux_loss\n",
        "        else:\n",
        "            # When capacity factor is 1, process all tokens as a vanilla Transformer layer\n",
        "            x_processed, cache = self.block(x, memory, **kwargs)\n",
        "            return x_processed, cache, torch.tensor(0.0).to(x.device)"
      ]
    },
    {
      "cell_type": "markdown",
      "metadata": {
        "id": "SxlvzCP1Gjf7"
      },
      "source": [
        "## **Frankestein**"
      ]
    },
    {
      "cell_type": "markdown",
      "metadata": {
        "id": "ceL9-5rProqG"
      },
      "source": [
        "Since both applications are compatible, I wanted to know if they could be implemented in a single architecture with faster speed or better performance. I decided to create a “Frankenstein” using these. Since MoD accepts any block to wrap, I decided to create a transformer block with GQ Attention instead of multi-head and decided to pass it.\n",
        "\n",
        "Here is a comparison between the standard approach and my hybrid. Standard:\n",
        "\n",
        "\n",
        "```\n",
        "  Input: tokens, original_dim = n\n",
        "  Output: softmax output of dimensions matching vocab_size\n",
        "\n",
        "  For each layer in model_layers:\n",
        "      original_tokens = tokens  # Save the input to the layer for the residual connection\n",
        "      tokens = layer_norm(tokens)  # Normalize the input tokens for the layer\n",
        "\n",
        "      head_outputs = []\n",
        "\n",
        "      For each head in num_heads:\n",
        "          Q = derive_query_matrix(tokens, dim_q)\n",
        "          K = derive_key_matrix(tokens, dim_k)\n",
        "          V = derive_value_matrix(tokens, dim_v)\n",
        "          head_output = attention(Q, K, V)  # Compute attention output\n",
        "          head_outputs.append(head_output)\n",
        "\n",
        "      tokens = concatenate(head_outputs)\n",
        "      tokens = sum(tokens)  # Sum the outputs from all heads\n",
        "      tokens += original_tokens  # Add the residual connection here\n",
        "\n",
        "      tokens = batch_norm(tokens)  # Normalize the combined output\n",
        "      original_tokens_ffn = tokens  # Save the output for the residual connection post-FFN\n",
        "      tokens = FFN(tokens)  # Apply the feed-forward network\n",
        "      tokens += original_tokens_ffn  # Add the residual connection after the FFN\n",
        "\n",
        "  tokens = proj(tokens, dim = vocab_size)  # Project output tokens to vocabulary size\n",
        "  output = softmax(tokens)  # Apply softmax to get probability distribution over vocabulary\n",
        "\n",
        "```\n",
        "\n",
        "Frankenstein Transformer:\n",
        "\n",
        "```\n",
        "Input: tokens, dim = n\n",
        "Output: softmax output of dimensions matching vocab_size\n",
        "\n",
        "For each layer in model_layers:\n",
        "    original_tokens = tokens  # Save the input to the layer for the residual connection\n",
        "\n",
        "    If layer_number % 2 == 0:\n",
        "        tokens = MoD-routing(tokens, p=1)  # Apply MoD-routing with p=1 (full routing) for even layers\n",
        "    Else:\n",
        "        tokens = MoD-routing(tokens, p=0.125)  # Apply MoD-routing with p=0.125 for odd layers\n",
        "\n",
        "    tokens = layer_norm(tokens)  # Normalize the inputs for the layer\n",
        "\n",
        "    head_outputs = []\n",
        "    For each head in num_heads:\n",
        "        Q = derive_query_matrix(tokens, dim_q)\n",
        "        K = derive_key_matrix(tokens, dim_k)\n",
        "        V = derive_value_matrix(tokens, dim_v)\n",
        "        head_output = grouped-query-attention(Q, K, V)  # Grouped-query attention where number of K, V <= Q\n",
        "        head_outputs.append(head_output)\n",
        "\n",
        "    tokens = concatenate(head_outputs)\n",
        "    tokens = sum(tokens)  # Sum the outputs from all heads\n",
        "    tokens += original_tokens  # Add the residual connection after attention sum\n",
        "\n",
        "    tokens = batch_norm(tokens)  # Normalize the combined output\n",
        "    original_tokens_ffn = tokens  # Save the output for the residual connection post-FFN\n",
        "    tokens = FFN(tokens)  # Apply the feed-forward network post normalization\n",
        "    tokens += original_tokens_ffn  # Add the residual connection after the FFN\n",
        "\n",
        "tokens = proj(tokens, dim = vocab_size)  # Project output tokens to vocabulary size\n",
        "output = softmax(tokens)  # Apply softmax to get probability distribution over vocabulary\n",
        "```"
      ]
    },
    {
      "cell_type": "markdown",
      "metadata": {
        "id": "81vgi-vT8XLo"
      },
      "source": [
        "This is one of the first implementations of MoD since it has only come out recently, and the only implementation combining it with GQA."
      ]
    },
    {
      "cell_type": "code",
      "execution_count": 11,
      "metadata": {
        "id": "vX3sz1ypKEqg"
      },
      "outputs": [],
      "source": [
        "class TransformerDecoderLayerGQA(nn.Module):\n",
        "    def __init__(self, embed_dim, query_heads, kv_heads, dim_feedforward=2048):\n",
        "        super().__init__()\n",
        "        self.self_attn = MultiheadGQA(embed_dim, query_heads, kv_heads)  # Using MultiheadGQA for self-attention\n",
        "        self.norm1 = nn.LayerNorm(embed_dim)\n",
        "        self.linear1 = nn.Linear(embed_dim, dim_feedforward)\n",
        "        self.linear2 = nn.Linear(dim_feedforward, embed_dim)\n",
        "        self.norm2 = nn.LayerNorm(embed_dim)\n",
        "\n",
        "    def forward(self, tgt, tgt_mask=None, tgt_key_padding_mask=None, tgt_is_causal=True):\n",
        "        # Here, memory and tgt are the same as we are in a decoder-only model\n",
        "        # Using tgt as both query, key, and value for self-attention\n",
        "        tgt2, _ = self.self_attn(tgt, tgt, tgt, need_weights=False, is_causal=tgt_is_causal)\n",
        "        tgt = tgt + self.norm1(tgt2)  # Apply residual connection followed by normalization\n",
        "        tgt2 = self.linear2(F.relu(self.linear1(tgt)))  # Feed-forward network\n",
        "        tgt = tgt + self.norm2(tgt2)  # Another residual connection and normalization\n",
        "        cache = None\n",
        "        return tgt, None\n",
        "\n",
        "class Frankenstein(nn.Module):\n",
        "    def __init__(self, config):\n",
        "        super(Frankenstein, self).__init__()\n",
        "        self.embedding = nn.Embedding(config.num_tokens, config.d_model)\n",
        "        self.pos_encoder = self.create_positional_encoding(config.max_sequence_length, config.d_model)\n",
        "        # Layers wrapped in MoD\n",
        "        self.layers = nn.ModuleList([\n",
        "            MoD(config if i % 2 == 0 else self.modify_config(config, config.mod_reduced),\n",
        "                TransformerDecoderLayerGQA(config.d_model, config.query_heads, config.kv_heads, config.dim_feedforward))\n",
        "            for i in range(config.num_layers)\n",
        "        ])\n",
        "        self.norm = nn.LayerNorm(config.d_model)\n",
        "        self.final_linear = nn.Linear(config.d_model, config.num_tokens)\n",
        "\n",
        "    def modify_config(self, config, mod_capacity_factor):\n",
        "        config_copy = config.__class__(**{k: v for k, v in vars(config).items()})\n",
        "        setattr(config_copy, 'mod_capacity_factor', mod_capacity_factor)\n",
        "        return config_copy\n",
        "\n",
        "    def create_positional_encoding(self, length, d_model):\n",
        "        position = torch.arange(length).unsqueeze(1)\n",
        "        div_term = torch.exp(torch.arange(0, d_model, 2) * -(math.log(10000.0) / d_model))\n",
        "        pos_encoder = torch.zeros(length, d_model)\n",
        "        pos_encoder[:, 0::2] = torch.sin(position * div_term)\n",
        "        pos_encoder[:, 1::2] = torch.cos(position * div_term)\n",
        "        return nn.Parameter(pos_encoder.unsqueeze(0))\n",
        "\n",
        "    def forward(self, src):\n",
        "        src = self.embedding(src) + self.pos_encoder[:, :src.size(1), :]\n",
        "        memory = None\n",
        "\n",
        "        aux_losses = []\n",
        "        for layer in self.layers:\n",
        "            src, cache, aux_loss = layer(src, memory)\n",
        "            aux_losses.append(aux_loss)\n",
        "\n",
        "        src = self.final_linear(self.norm(src))\n",
        "        return src, sum(aux_losses) / len(aux_losses) if aux_losses else 0"
      ]
    },
    {
      "cell_type": "code",
      "execution_count": null,
      "metadata": {
        "id": "xFrDfuUEKHNz"
      },
      "outputs": [],
      "source": [
        "class Config:\n",
        "    max_sequence_length = 256\n",
        "    num_tokens = 5002  # vocabulary size\n",
        "    d_model = 256  # dimensionality of the token embeddings\n",
        "    query_heads = 8  # number of query heads in multi-head attention mechanisms\n",
        "    kv_heads = 2  # number of key/value heads in multi-head attention mechanisms\n",
        "    dim_feedforward = 512  # dimension of the feedforward network model in transformer\n",
        "    num_layers = 4  # number of decoder layers\n",
        "    mod_capacity_factor = 1  # default capacity factor\n",
        "    mod_reduced = 0.125 # This amount of tokens in every other layer will pass through"
      ]
    },
    {
      "cell_type": "code",
      "execution_count": null,
      "metadata": {
        "colab": {
          "base_uri": "https://localhost:8080/"
        },
        "id": "5cRGFvd-Ytsg",
        "outputId": "5c0de544-462d-4cb7-df44-251423c6a499"
      },
      "outputs": [
        {
          "name": "stdout",
          "output_type": "stream",
          "text": [
            "Epoch 1, Total Loss: 7.24, Auxiliary Loss: 519.90, Training Time: 48.519385 seconds\n",
            "Epoch 2, Total Loss: 7.06, Auxiliary Loss: 551.90, Training Time: 48.657121 seconds\n",
            "Epoch 3, Total Loss: 6.28, Auxiliary Loss: 565.11, Training Time: 48.700475 seconds\n"
          ]
        }
      ],
      "source": [
        "config = Config()\n",
        "model = Frankenstein(config).to(device)\n",
        "loss_fn = nn.CrossEntropyLoss().to(device)\n",
        "optimizer = optim.Adam(model.parameters(), lr=0.001)\n",
        "epochs = 3\n",
        "\n",
        "# Training Loop\n",
        "for epoch in range(epochs):\n",
        "    start_time = datetime.now()\n",
        "    model.train()\n",
        "    total_loss = 0\n",
        "    total_aux_loss = 0\n",
        "\n",
        "    for batch in train_loader:\n",
        "        inputs, targets = batch\n",
        "        inputs = inputs.to(device)\n",
        "        targets = targets.to(device)\n",
        "        optimizer.zero_grad()\n",
        "        output, aux_loss = model(inputs)\n",
        "        output = output.reshape(-1, config.num_tokens)\n",
        "        targets = targets.reshape(-1)\n",
        "        loss = loss_fn(output, targets)\n",
        "        total_loss = loss.item() + aux_loss\n",
        "\n",
        "        # Backpropagation\n",
        "        loss.backward()\n",
        "        optimizer.step()\n",
        "\n",
        "        # Accumulate losses for logging\n",
        "        total_loss += loss.item()\n",
        "        total_aux_loss += aux_loss.item()\n",
        "\n",
        "    # Calculate training duration\n",
        "    end_time = datetime.now()\n",
        "    training_time = (end_time - start_time).total_seconds()\n",
        "\n",
        "    print(f\"Epoch {epoch + 1}, Total Loss: {total_loss:.2f}, Auxiliary Loss: {total_aux_loss:.2f}, Training Time: {training_time} seconds\")"
      ]
    },
    {
      "cell_type": "code",
      "execution_count": null,
      "metadata": {
        "colab": {
          "base_uri": "https://localhost:8080/"
        },
        "id": "K5eARYsj7e0i",
        "outputId": "ed70ac87-a916-467e-c98e-e00d10a8b7ee"
      },
      "outputs": [
        {
          "name": "stdout",
          "output_type": "stream",
          "text": [
            "pos_encoder has 16384 trainable parameters\n",
            "embedding.weight has 640256 trainable parameters\n",
            "layers.0.block.self_attn.q_proj.weight has 16384 trainable parameters\n",
            "layers.0.block.self_attn.q_proj.bias has 128 trainable parameters\n",
            "layers.0.block.self_attn.k_proj.weight has 4096 trainable parameters\n",
            "layers.0.block.self_attn.k_proj.bias has 32 trainable parameters\n",
            "layers.0.block.self_attn.v_proj.weight has 4096 trainable parameters\n",
            "layers.0.block.self_attn.v_proj.bias has 32 trainable parameters\n",
            "layers.0.block.self_attn.norm.weight has 32 trainable parameters\n",
            "layers.0.block.self_attn.norm.bias has 32 trainable parameters\n",
            "layers.0.block.self_attn.out_proj.weight has 4096 trainable parameters\n",
            "layers.0.block.self_attn.out_proj.bias has 128 trainable parameters\n",
            "layers.0.block.norm1.weight has 128 trainable parameters\n",
            "layers.0.block.norm1.bias has 128 trainable parameters\n",
            "layers.0.block.linear1.weight has 65536 trainable parameters\n",
            "layers.0.block.linear1.bias has 512 trainable parameters\n",
            "layers.0.block.linear2.weight has 65536 trainable parameters\n",
            "layers.0.block.linear2.bias has 128 trainable parameters\n",
            "layers.0.block.norm2.weight has 128 trainable parameters\n",
            "layers.0.block.norm2.bias has 128 trainable parameters\n",
            "layers.1.block.self_attn.q_proj.weight has 16384 trainable parameters\n",
            "layers.1.block.self_attn.q_proj.bias has 128 trainable parameters\n",
            "layers.1.block.self_attn.k_proj.weight has 4096 trainable parameters\n",
            "layers.1.block.self_attn.k_proj.bias has 32 trainable parameters\n",
            "layers.1.block.self_attn.v_proj.weight has 4096 trainable parameters\n",
            "layers.1.block.self_attn.v_proj.bias has 32 trainable parameters\n",
            "layers.1.block.self_attn.norm.weight has 32 trainable parameters\n",
            "layers.1.block.self_attn.norm.bias has 32 trainable parameters\n",
            "layers.1.block.self_attn.out_proj.weight has 4096 trainable parameters\n",
            "layers.1.block.self_attn.out_proj.bias has 128 trainable parameters\n",
            "layers.1.block.norm1.weight has 128 trainable parameters\n",
            "layers.1.block.norm1.bias has 128 trainable parameters\n",
            "layers.1.block.linear1.weight has 65536 trainable parameters\n",
            "layers.1.block.linear1.bias has 512 trainable parameters\n",
            "layers.1.block.linear2.weight has 65536 trainable parameters\n",
            "layers.1.block.linear2.bias has 128 trainable parameters\n",
            "layers.1.block.norm2.weight has 128 trainable parameters\n",
            "layers.1.block.norm2.bias has 128 trainable parameters\n",
            "layers.1.mod_router.weight has 128 trainable parameters\n",
            "layers.1.mlp_router.weight has 128 trainable parameters\n",
            "layers.2.block.self_attn.q_proj.weight has 16384 trainable parameters\n",
            "layers.2.block.self_attn.q_proj.bias has 128 trainable parameters\n",
            "layers.2.block.self_attn.k_proj.weight has 4096 trainable parameters\n",
            "layers.2.block.self_attn.k_proj.bias has 32 trainable parameters\n",
            "layers.2.block.self_attn.v_proj.weight has 4096 trainable parameters\n",
            "layers.2.block.self_attn.v_proj.bias has 32 trainable parameters\n",
            "layers.2.block.self_attn.norm.weight has 32 trainable parameters\n",
            "layers.2.block.self_attn.norm.bias has 32 trainable parameters\n",
            "layers.2.block.self_attn.out_proj.weight has 4096 trainable parameters\n",
            "layers.2.block.self_attn.out_proj.bias has 128 trainable parameters\n",
            "layers.2.block.norm1.weight has 128 trainable parameters\n",
            "layers.2.block.norm1.bias has 128 trainable parameters\n",
            "layers.2.block.linear1.weight has 65536 trainable parameters\n",
            "layers.2.block.linear1.bias has 512 trainable parameters\n",
            "layers.2.block.linear2.weight has 65536 trainable parameters\n",
            "layers.2.block.linear2.bias has 128 trainable parameters\n",
            "layers.2.block.norm2.weight has 128 trainable parameters\n",
            "layers.2.block.norm2.bias has 128 trainable parameters\n",
            "layers.3.block.self_attn.q_proj.weight has 16384 trainable parameters\n",
            "layers.3.block.self_attn.q_proj.bias has 128 trainable parameters\n",
            "layers.3.block.self_attn.k_proj.weight has 4096 trainable parameters\n",
            "layers.3.block.self_attn.k_proj.bias has 32 trainable parameters\n",
            "layers.3.block.self_attn.v_proj.weight has 4096 trainable parameters\n",
            "layers.3.block.self_attn.v_proj.bias has 32 trainable parameters\n",
            "layers.3.block.self_attn.norm.weight has 32 trainable parameters\n",
            "layers.3.block.self_attn.norm.bias has 32 trainable parameters\n",
            "layers.3.block.self_attn.out_proj.weight has 4096 trainable parameters\n",
            "layers.3.block.self_attn.out_proj.bias has 128 trainable parameters\n",
            "layers.3.block.norm1.weight has 128 trainable parameters\n",
            "layers.3.block.norm1.bias has 128 trainable parameters\n",
            "layers.3.block.linear1.weight has 65536 trainable parameters\n",
            "layers.3.block.linear1.bias has 512 trainable parameters\n",
            "layers.3.block.linear2.weight has 65536 trainable parameters\n",
            "layers.3.block.linear2.bias has 128 trainable parameters\n",
            "layers.3.block.norm2.weight has 128 trainable parameters\n",
            "layers.3.block.norm2.bias has 128 trainable parameters\n",
            "layers.3.mod_router.weight has 128 trainable parameters\n",
            "layers.3.mlp_router.weight has 128 trainable parameters\n",
            "norm.weight has 128 trainable parameters\n",
            "norm.bias has 128 trainable parameters\n",
            "final_linear.weight has 640256 trainable parameters\n",
            "final_linear.bias has 5002 trainable parameters\n",
            "The model has approximately 1947786 trainable parameters.\n"
          ]
        }
      ],
      "source": [
        "# Set the model to evaluation mode\n",
        "model.eval()\n",
        "\n",
        "# Print the parameter counts per layer\n",
        "for name, param in model.named_parameters():\n",
        "    if param.requires_grad:\n",
        "        print(f\"{name} has {param.numel()} trainable parameters\")\n",
        "\n",
        "# Approximate model size by counting parameters\n",
        "model_parameters = sum(p.numel() for p in model.parameters() if p.requires_grad)\n",
        "print(f'The model has approximately {model_parameters} trainable parameters.')"
      ]
    },
    {
      "cell_type": "markdown",
      "metadata": {
        "id": "sueaKjioRgPu"
      },
      "source": [
        "## **Comparison**"
      ]
    },
    {
      "cell_type": "code",
      "execution_count": 12,
      "metadata": {
        "id": "QppbgbHfF7JN"
      },
      "outputs": [],
      "source": [
        "# Count number of paramaeters in a model\n",
        "def count_parameters(model):\n",
        "    return sum(p.numel() for p in model.parameters() if p.requires_grad)\n",
        "\n",
        "\n",
        "def calculate_perplexity(model, data_loader, loss_fn, device, vocab_size):\n",
        "    \"\"\"\n",
        "    Calculate the perplexity of a language model, which measures how well the model predicts a sample.\n",
        "\n",
        "    Args:\n",
        "        model (torch.nn.Module): The trained model to evaluate.\n",
        "        data_loader (DataLoader): DataLoader providing input and target batches.\n",
        "        loss_fn (callable): Loss function used to evaluate model performance.\n",
        "        device (str or torch.device): Device to run the model computations on ('cpu' or 'cuda').\n",
        "        vocab_size (int): The size of the vocabulary, not used in this function directly.\n",
        "\n",
        "    Returns:\n",
        "        float: The perplexity score for the given data.\n",
        "    \"\"\"\n",
        "\n",
        "    model.eval()  # Switch the model to evaluation mode (e.g., disable dropout).\n",
        "\n",
        "    total_loss = 0.0  # Initialize total loss accumulated across all batches.\n",
        "    total_items = 0  # Initialize total number of items processed (for averaging loss later).\n",
        "\n",
        "    with torch.no_grad():  # Context manager that disables gradient computation, reducing memory usage and speeding up computations.\n",
        "        for inputs, targets in data_loader:\n",
        "            inputs, targets = inputs.to(device), targets.to(device)  # Move data to the specified device.\n",
        "\n",
        "            outputs = model(inputs)  # Compute the model's output for the given inputs.\n",
        "\n",
        "            if isinstance(outputs, tuple):  # Check if model returns a tuple (e.g., output and hidden states).\n",
        "                outputs = outputs[0]  # If so, use only the logits (first element of tuple) for loss calculation.\n",
        "\n",
        "            outputs = outputs.reshape(-1, vocab_size)  # Flatten the outputs to fit the loss function's requirements.\n",
        "            targets = targets.reshape(-1)  # Flatten the targets accordingly.\n",
        "\n",
        "            loss = loss_fn(outputs, targets)  # Compute the loss between outputs and targets.\n",
        "            total_loss += loss.item() * inputs.size(0)  # Aggregate the loss scaled by batch size for correct averaging.\n",
        "            total_items += inputs.size(0)  # Accumulate the total number of items processed.\n",
        "\n",
        "    average_loss = total_loss / total_items  # Calculate the average loss over all items.\n",
        "    perplexity = torch.exp(torch.tensor(average_loss))  # Compute the perplexity from the average loss.\n",
        "\n",
        "    return perplexity.item()  # Return the perplexity score as a Python float."
      ]
    },
    {
      "cell_type": "markdown",
      "metadata": {
        "id": "5b3384WFn_n0"
      },
      "source": [
        "I realized the only way to have a perfect \"control\" architecture would be to compare Frankenstein to itself. Since an MoD router with p = 1 lets all tokens through on all layers, it becomes a standard transformer. Likewise, when the number of key and value matrices are equal to query matrices, a GQ Attention system is essentially standard multi-head attention.\n",
        "I initalized 4 instances of the Frankenstein:\n",
        "- p = 1, KV_Heads = 8 (Standard Implementation)\n",
        "- P = 0.25, KV_Heads = 8 (MoD Implementation)\n",
        "- p = 1, KV_Heads = 2 (GQA Implementation)\n",
        "- p = 0.25, KV_HEADS = 2 (Hybrid Implementation)"
      ]
    },
    {
      "cell_type": "code",
      "execution_count": null,
      "metadata": {
        "colab": {
          "base_uri": "https://localhost:8080/"
        },
        "id": "aZ3EkbFeKY7Z",
        "outputId": "20d92fc4-64c0-447b-ccf7-906ae8185500"
      },
      "outputs": [
        {
          "name": "stdout",
          "output_type": "stream",
          "text": [
            "Training completed: KV Heads = 8, Mod Reduced = 1, Time = 527.36 sec, Params = 4742538\n",
            "Training completed: KV Heads = 2, Mod Reduced = 1, Time = 317.63 sec, Params = 4149642\n",
            "Training completed: KV Heads = 8, Mod Reduced = 0.25, Time = 360.57 sec, Params = 4743562\n",
            "Training completed: KV Heads = 2, Mod Reduced = 0.25, Time = 243.19 sec, Params = 4150666\n"
          ]
        }
      ],
      "source": [
        "loss_fn = nn.CrossEntropyLoss().to(device)\n",
        "epochs = 3\n",
        "\n",
        "# Define unique configuration classes\n",
        "class Config1:\n",
        "    max_sequence_length = 256\n",
        "    num_tokens = 5002\n",
        "    d_model = 128\n",
        "    query_heads = 8\n",
        "    kv_heads = 8\n",
        "    dim_feedforward = 512\n",
        "    num_layers = 4\n",
        "    mod_capacity_factor = 1\n",
        "    mod_reduced = 1\n",
        "\n",
        "class Config2:\n",
        "    max_sequence_length = 256\n",
        "    num_tokens = 5002\n",
        "    d_model = 128\n",
        "    query_heads = 8\n",
        "    kv_heads = 2\n",
        "    dim_feedforward = 512\n",
        "    num_layers = 4\n",
        "    mod_capacity_factor = 1\n",
        "    mod_reduced = 1\n",
        "\n",
        "class Config3:\n",
        "    max_sequence_length = 256\n",
        "    num_tokens = 5002\n",
        "    d_model = 128\n",
        "    query_heads = 8\n",
        "    kv_heads = 8\n",
        "    dim_feedforward = 512\n",
        "    num_layers = 4\n",
        "    mod_capacity_factor = 1\n",
        "    mod_reduced = 0.25\n",
        "\n",
        "class Config4:\n",
        "    max_sequence_length = 256\n",
        "    num_tokens = 5002\n",
        "    d_model = 128\n",
        "    query_heads = 8\n",
        "    kv_heads = 2\n",
        "    dim_feedforward = 512\n",
        "    num_layers = 4\n",
        "    mod_capacity_factor = 1\n",
        "    mod_reduced = 0.25\n",
        "\n",
        "configs = [Config1, Config2, Config3, Config4]\n",
        "models = []\n",
        "train_meta = []\n",
        "\n",
        "# Training loop for each configuration class\n",
        "for Config in configs:\n",
        "    model = Frankenstein(Config()).to(device)\n",
        "    optimizer = optim.Adam(model.parameters(), lr=0.001)\n",
        "\n",
        "    start_time = datetime.now()\n",
        "    total_loss = 0\n",
        "\n",
        "    for epoch in range(epochs):\n",
        "        model.train()\n",
        "        for inputs, targets in train_loader:\n",
        "            inputs, targets = inputs.to(device), targets.to(device)\n",
        "            optimizer.zero_grad()\n",
        "            output, aux_loss = model(inputs)\n",
        "            output = output.reshape(-1, Config.num_tokens)\n",
        "            targets = targets.reshape(-1)\n",
        "            loss = loss_fn(output, targets) + aux_loss\n",
        "            loss.backward()\n",
        "            optimizer.step()\n",
        "            total_loss += loss.item()\n",
        "\n",
        "    training_duration = (datetime.now() - start_time).total_seconds()\n",
        "    num_params = sum(p.numel() for p in model.parameters() if p.requires_grad)\n",
        "\n",
        "    models.append(model)\n",
        "    train_meta.append((training_duration, num_params))\n",
        "\n",
        "    print(f\"Training completed: KV Heads = {Config.kv_heads}, Mod Reduced = {Config.mod_reduced}, Time = {training_duration:.2f} sec, Params = {num_params}\")"
      ]
    },
    {
      "cell_type": "code",
      "execution_count": null,
      "metadata": {
        "colab": {
          "base_uri": "https://localhost:8080/"
        },
        "id": "p5YQmAqsLxDm",
        "outputId": "bbdad871-f901-4de3-afac-9282fd183f5e"
      },
      "outputs": [
        {
          "name": "stdout",
          "output_type": "stream",
          "text": [
            "Model Name           | Training Time (s) | Number of Parameters | Perplexity\n",
            "---------------------------------------------------------------------------\n",
            "Vanilla Transformer  | 527.36            | 4742538              | 11.47     \n",
            "GQA                  | 317.63            | 4149642              | 13.18     \n",
            "MoD                  | 360.57            | 4743562              | 14.36     \n",
            "Frankenstein         | 243.19            | 4150666              | 15.58     \n"
          ]
        }
      ],
      "source": [
        "vocab_size = 5002\n",
        "\n",
        "perplexities = [\n",
        "    calculate_perplexity(models[0], test_loader, loss_fn, device, vocab_size),\n",
        "    calculate_perplexity(models[1], test_loader, loss_fn, device, vocab_size),\n",
        "    calculate_perplexity(models[2], test_loader, loss_fn, device, vocab_size),\n",
        "    calculate_perplexity(models[3], test_loader, loss_fn, device, vocab_size)\n",
        "]\n",
        "\n",
        "model_names = [\"Vanilla Transformer\", \"GQA\", \"MoD\", \"Frankenstein\"]\n",
        "results = []\n",
        "\n",
        "for i, model in enumerate(models):\n",
        "    results.append({\n",
        "        \"Model Name\": model_names[i],\n",
        "        \"Training Time (s)\": train_meta[i][0],\n",
        "        \"Number of Parameters\": train_meta[i][1],\n",
        "        \"Perplexity\": perplexities[i]\n",
        "    })\n",
        "\n",
        "# Print results in a table\n",
        "print(f\"{'Model Name':<20} | {'Training Time (s)':<17} | {'Number of Parameters':<20} | {'Perplexity':<10}\")\n",
        "print(\"-\" * 75)\n",
        "for result in results:\n",
        "    print(f\"{result['Model Name']:<20} | {result['Training Time (s)']:<17.2f} | {result['Number of Parameters']:<20} | {result['Perplexity']:<10.2f}\")"
      ]
    },
    {
      "cell_type": "code",
      "execution_count": null,
      "metadata": {
        "colab": {
          "base_uri": "https://localhost:8080/"
        },
        "id": "E-ZMVMMowsXk",
        "outputId": "0ab59c8e-aa60-4cc0-f856-6a4c7832c4a4"
      },
      "outputs": [
        {
          "name": "stdout",
          "output_type": "stream",
          "text": [
            "---------------------------------------------------------------------------\n",
            "Vanilla Transformer  | 527.36            | 4742538              | 11.47     \n",
            "GQA                  | 317.63            | 4149642              | 13.18     \n",
            "MoD                  | 360.57            | 4743562              | 14.36     \n",
            "Frankenstein         | 243.19            | 4150666              | 15.58     \n",
            "Vanilla Transformer  | 527.36            | 4742538              | 11.47     \n",
            "GQA                  | 317.63            | 4149642              | 13.18     \n",
            "MoD                  | 360.57            | 4743562              | 14.36     \n",
            "Frankenstein         | 243.19            | 4150666              | 15.58     \n"
          ]
        }
      ],
      "source": [
        "for i, model in enumerate(models):\n",
        "    # Saving the model\n",
        "    torch.save(model.state_dict(), f\"/content/{model_names[i]}_model.pth\")\n",
        "\n",
        "    results.append({\n",
        "        \"Model Name\": model_names[i],\n",
        "        \"Training Time (s)\": train_meta[i][0],\n",
        "        \"Number of Parameters\": train_meta[i][1],\n",
        "        \"Perplexity\": perplexities[i]\n",
        "    })"
      ]
    },
    {
      "cell_type": "markdown",
      "source": [
        "## **Inference**"
      ],
      "metadata": {
        "id": "DEt3Wpb6Cwb0"
      }
    },
    {
      "cell_type": "code",
      "source": [
        "class RMSLayerNorm(nn.Module):\n",
        "    \"\"\"\n",
        "    Implements RMS Layer Normalization that normalizes the input features based on the root mean square of\n",
        "    the input minus its mean. This is an alternative to the standard Layer Normalization technique.\n",
        "    \"\"\"\n",
        "    def __init__(self, normalized_shape, eps=1e-5):\n",
        "        \"\"\"\n",
        "        Initialize the RMSLayerNorm module.\n",
        "\n",
        "        Args:\n",
        "            normalized_shape (int or tuple): The shape of the input tensor that should be normalized.\n",
        "                                             This typically corresponds to the features dimension.\n",
        "            eps (float, optional): A small constant (epsilon) added to the denominator for numerical stability.\n",
        "                                   Defaults to 1e-5.\n",
        "        \"\"\"\n",
        "        super().__init__()  # Initialize the parent class (nn.Module)\n",
        "        self.weight = nn.Parameter(torch.ones(normalized_shape))  # Learnable scale parameters\n",
        "        self.bias = nn.Parameter(torch.zeros(normalized_shape))  # Learnable shift parameters\n",
        "        self.eps = eps  # Small constant for numerical stability\n",
        "\n",
        "    def forward(self, x: Tensor) -> Tensor:\n",
        "        \"\"\"\n",
        "        Forward pass of the RMS layer normalization.\n",
        "\n",
        "        Args:\n",
        "            x (Tensor): The input tensor to be normalized.\n",
        "\n",
        "        Returns:\n",
        "            Tensor: The normalized tensor which is scaled and shifted by learnable parameters.\n",
        "        \"\"\"\n",
        "        mean = x.mean(dim=-1, keepdim=True)  # Compute the mean of the last dimension\n",
        "        squared_mean = (x ** 2).mean(dim=-1, keepdim=True)  # Compute the mean of the squares of the last dimension\n",
        "        rms = torch.sqrt(squared_mean - mean**2 + self.eps)  # Compute the root mean square deviation for normalization\n",
        "        x = (x - mean) / rms  # Normalize the input tensor\n",
        "        return self.weight * x + self.bias  # Scale and shift the normalized tensor and return"
      ],
      "metadata": {
        "id": "Zp2tyBarCvcF"
      },
      "execution_count": null,
      "outputs": []
    },
    {
      "cell_type": "code",
      "source": [
        "class TransformerDecoderLayerGQA(nn.Module):\n",
        "    def __init__(self, embed_dim, query_heads, kv_heads, dim_feedforward=2048):\n",
        "        super().__init__()\n",
        "        self.self_attn = MultiheadGQA(embed_dim, query_heads, kv_heads)  # Using MultiheadGQA for self-attention\n",
        "        self.norm1 = RMSLayerNorm(embed_dim)\n",
        "        self.linear1 = nn.Linear(embed_dim, dim_feedforward)\n",
        "        self.linear2 = nn.Linear(dim_feedforward, embed_dim)\n",
        "        self.norm2 = RMSLayerNorm(embed_dim)\n",
        "\n",
        "    def forward(self, tgt, tgt_mask=None, tgt_key_padding_mask=None, tgt_is_causal=True):\n",
        "        # Here, memory and tgt are the same as we are in a decoder-only model\n",
        "        # Using tgt as both query, key, and value for self-attention\n",
        "        tgt2, _ = self.self_attn(tgt, tgt, tgt, need_weights=False, is_causal=tgt_is_causal)\n",
        "        tgt = tgt + self.norm1(tgt2)  # Apply residual connection followed by normalization\n",
        "        tgt2 = self.linear2(F.relu(self.linear1(tgt)))  # Feed-forward network\n",
        "        tgt = tgt + self.norm2(tgt2)  # Another residual connection and normalization\n",
        "        cache = None\n",
        "        return tgt, None"
      ],
      "metadata": {
        "id": "isANVVXCC8YM"
      },
      "execution_count": null,
      "outputs": []
    },
    {
      "cell_type": "code",
      "source": [
        "# Save and checkpoint model weights\n",
        "def save_model_weights(model, filepath):\n",
        "    torch.save(model.state_dict(), filepath)\n",
        "    print(f\"Model weights saved to {filepath}\")"
      ],
      "metadata": {
        "id": "tnvT7YUSC_WD"
      },
      "execution_count": null,
      "outputs": []
    },
    {
      "cell_type": "code",
      "source": [
        "def init_weights(m):\n",
        "    # Check if the module is a linear layer (fully connected layer)\n",
        "    if isinstance(m, torch.nn.Linear):\n",
        "        # Initialize the weights of the linear layer using Xavier uniform distribution.\n",
        "        # This helps keep the signal in a reasonable range during the initial stages of training.\n",
        "        torch.nn.init.xavier_uniform_(m.weight)\n",
        "        # If the linear layer includes a bias term, initialize it to zero.\n",
        "        if m.bias is not None:\n",
        "            torch.nn.init.constant_(m.bias, 0)\n",
        "\n",
        "    # Check if the module is a layer normalization layer\n",
        "    elif isinstance(m, torch.nn.LayerNorm):\n",
        "        # Initialize the weights of the LayerNorm layer to one.\n",
        "        # This is standard practice to maintain the output's scale as training starts.\n",
        "        torch.nn.init.constant_(m.weight, 1)\n",
        "        # Initialize the bias of the LayerNorm layer to zero.\n",
        "        torch.nn.init.constant_(m.bias, 0)"
      ],
      "metadata": {
        "id": "dVzYvI01DK9g"
      },
      "execution_count": null,
      "outputs": []
    },
    {
      "cell_type": "code",
      "source": [
        "import datetime\n",
        "import matplotlib.pyplot as plt"
      ],
      "metadata": {
        "id": "Dj7nZGQWGKWA"
      },
      "execution_count": null,
      "outputs": []
    },
    {
      "cell_type": "code",
      "source": [
        "# Configuration and Model Setup\n",
        "class Config:\n",
        "    # Configuration class for storing model and training parameters\n",
        "    max_sequence_length = 256\n",
        "    num_tokens = 5002\n",
        "    d_model = 256\n",
        "    query_heads = 16\n",
        "    kv_heads = 4\n",
        "    dim_feedforward = 512\n",
        "    num_layers = 8\n",
        "    mod_capacity_factor = 1\n",
        "    mod_reduced = 0.25\n",
        "\n",
        "config = Config()\n",
        "model = Frankenstein(config).to(device)  # Instantiate model with the given configuration and move to device\n",
        "model.apply(init_weights)  # Apply weight initialization using the init_weights function\n",
        "loss_fn = nn.CrossEntropyLoss().to(device)  # Define the loss function and move to the appropriate device\n",
        "optimizer = optim.Adam(model.parameters(), lr=0.0005, weight_decay=1e-4)  # Set up the optimizer with weight decay\n",
        "scheduler = torch.optim.lr_scheduler.CosineAnnealingLR(optimizer, T_max=50)  # Scheduler for adjusting learning rate\n",
        "\n",
        "# Parameters\n",
        "epochs = 5\n",
        "device = torch.device(\"cuda\" if torch.cuda.is_available() else \"cpu\")  # Determine whether CUDA is available\n",
        "\n",
        "# Training and Evaluation\n",
        "train_losses = []\n",
        "test_losses = []\n",
        "time_list = []\n",
        "\n",
        "for epoch in range(epochs):\n",
        "    start_time = datetime.datetime.now()  # Record start time of the epoch\n",
        "\n",
        "    # Training phase\n",
        "    model.train()  # Switch model to training mode (enables dropout, batch normalization)\n",
        "    total_train_loss = 0\n",
        "    total_aux_loss = 0\n",
        "    count_batches = 0\n",
        "\n",
        "    for inputs, targets in train_loader:\n",
        "        inputs, targets = inputs.to(device), targets.to(device)  # Move data to the correct device\n",
        "        optimizer.zero_grad()  # Clear gradients before each backpropagation\n",
        "        output, aux_loss = model(inputs)  # Forward pass through the model\n",
        "        output = output.reshape(-1, config.num_tokens)\n",
        "        targets = targets.reshape(-1)\n",
        "        loss = loss_fn(output, targets)  # Compute primary loss\n",
        "\n",
        "        # Normalize the auxiliary loss to scale it with the primary loss\n",
        "        mean_primary_loss = total_train_loss / max(count_batches, 1)  # Calculate mean primary loss to avoid zero division\n",
        "        normalized_aux_loss = 0.5 * aux_loss / (mean_primary_loss + 1e-8)  # Add small epsilon to prevent division by zero\n",
        "\n",
        "        combined_loss = loss + normalized_aux_loss  # Combine primary and auxiliary losses\n",
        "\n",
        "        combined_loss.backward()  # Backpropagate the total loss\n",
        "        optimizer.step()  # Update model parameters\n",
        "\n",
        "        total_train_loss += loss.item()  # Aggregate primary loss\n",
        "        total_aux_loss += aux_loss.item()  # Aggregate auxiliary loss\n",
        "        count_batches += 1\n",
        "\n",
        "    scheduler.step(total_train_loss / count_batches)  # Update learning rate based on average primary loss\n",
        "\n",
        "    train_losses.append(total_train_loss)  # Record training loss for this epoch\n",
        "\n",
        "    # Evaluation phase\n",
        "    model.eval()  # Switch model to evaluation mode (disables dropout, batch normalization)\n",
        "    total_test_loss = 0\n",
        "    with torch.no_grad():  # Context manager that disables gradient calculation\n",
        "        for inputs, targets in test_loader:\n",
        "            inputs, targets = inputs.to(device), targets.to(device)\n",
        "            output, aux_loss = model(inputs)\n",
        "            output = output.reshape(-1, config.num_tokens)\n",
        "            targets = targets.reshape(-1)\n",
        "            loss = loss_fn(output, targets)\n",
        "            total_test_loss += loss.item()  # Sum up test loss\n",
        "\n",
        "    test_losses.append(total_test_loss)  # Record test loss for this epoch\n",
        "    training_time = (datetime.datetime.now() - start_time).total_seconds()  # Calculate elapsed time for the epoch\n",
        "    time_list.append(training_time)  # Record training time\n",
        "\n",
        "    # Output results for this epoch\n",
        "    print(f\"Epoch {epoch + 1}, Training Loss: {total_train_loss:.2f}, Test Loss: {total_test_loss:.2f}, Training Time: {training_time:.2f} seconds\")\n",
        "\n",
        "    # Save model weights at the end of each epoch\n",
        "    save_model_weights(model, f\"model_epoch_{epoch+1}.pt\")"
      ],
      "metadata": {
        "colab": {
          "base_uri": "https://localhost:8080/"
        },
        "id": "myoTwq6eDNCl",
        "outputId": "e62f741b-5c5d-43d9-88de-f677b4531cbd"
      },
      "execution_count": null,
      "outputs": [
        {
          "output_type": "stream",
          "name": "stdout",
          "text": [
            "Epoch 1, Training Loss: 1661.19, Test Loss: 350.94, Training Time: 175.01 seconds\n",
            "Model weights saved to model_epoch_1.pt\n",
            "Epoch 2, Training Loss: 1338.66, Test Loss: 324.96, Training Time: 175.72 seconds\n",
            "Model weights saved to model_epoch_2.pt\n",
            "Epoch 3, Training Loss: 1256.20, Test Loss: 311.54, Training Time: 175.61 seconds\n",
            "Model weights saved to model_epoch_3.pt\n",
            "Epoch 4, Training Loss: 1195.28, Test Loss: 296.21, Training Time: 175.67 seconds\n",
            "Model weights saved to model_epoch_4.pt\n",
            "Epoch 5, Training Loss: 1140.06, Test Loss: 286.34, Training Time: 175.73 seconds\n",
            "Model weights saved to model_epoch_5.pt\n"
          ]
        }
      ]
    },
    {
      "cell_type": "code",
      "source": [
        "def generate_text(model, start_sequence, max_length=50, temperature=1.2, top_p=0.9, device='cpu'):\n",
        "    model.eval()  # Switch model to evaluation mode (deactivates dropout layers).\n",
        "    model.to(device)  # Move the model to the specified device (CPU or GPU).\n",
        "    sequence = start_sequence.to(device)  # Transfer the initial input sequence to the specified device.\n",
        "\n",
        "    with torch.no_grad():  # Disable gradient calculations for efficiency and to prevent memory usage growth.\n",
        "        for _ in range(max_length):  # Generate up to max_length tokens.\n",
        "            output, _ = model(sequence)  # Get the model output for the current sequence and ignore any auxiliary outputs.\n",
        "            logits = output[:, -1, :] / temperature  # Scale the logits by the temperature parameter to adjust \"sharpness\" of the distribution.\n",
        "\n",
        "            # Sort logits to identify the most probable next tokens.\n",
        "            sorted_logits, sorted_indices = torch.sort(logits, descending=True)\n",
        "            # Calculate cumulative probabilities for the sorted logits.\n",
        "            cumulative_probs = torch.cumsum(F.softmax(sorted_logits, dim=-1), dim=-1)\n",
        "\n",
        "            # Eliminate tokens with a cumulative probability higher than top_p, ensuring diversity.\n",
        "            sorted_indices_to_remove = cumulative_probs > top_p\n",
        "            # Shift the mask to the right, keeping the first token that exceeds the threshold.\n",
        "            sorted_indices_to_remove[..., 1:] = sorted_indices_to_remove[..., :-1].clone()\n",
        "            sorted_indices_to_remove[..., 0] = 0  # Always keep the most probable token.\n",
        "\n",
        "            indices_to_remove = sorted_indices[sorted_indices_to_remove]\n",
        "            logits[:, indices_to_remove] = float('-inf')  # Set removed logits to negative infinity to exclude them.\n",
        "\n",
        "            probabilities = F.softmax(logits, dim=-1)  # Recompute probabilities after modification.\n",
        "            next_token = torch.multinomial(probabilities, 1)  # Sample the next token.\n",
        "\n",
        "            # Append the sampled token to the sequence and ensure it is on the right device.\n",
        "            sequence = torch.cat([sequence, next_token.to(device)], dim=1)\n",
        "            if next_token.item() == eos_token_id:  # Check for the end-of-sequence token.\n",
        "                break\n",
        "\n",
        "    return sequence  # Return the generated sequence.\n",
        "\n",
        "# Usage Example\n",
        "device = torch.device(\"cuda\" if torch.cuda.is_available() else \"cpu\")  # Determine the device to use.\n",
        "start_text = \"i am \"\n",
        "start_sequence = torch.tensor([dataset.tokenizer.encode(start_text)], dtype=torch.long)  # Prepare initial input sequence.\n",
        "eos_token_id = dataset.tokenizer.word_index.get(\"<EOS>\", -1)  # Retrieve the End-Of-Sequence token ID, with a fallback.\n",
        "\n",
        "# Generate text\n",
        "generated_sequence = generate_text(model, start_sequence, max_length=50, temperature=1, top_p=0.9, device=device)\n",
        "# Convert tensor to CPU, decode it, and clean up the representation.\n",
        "generated_text = ''.join(dataset.tokenizer.decode(generated_sequence.cpu()[0].tolist()))\n",
        "generated_text = generated_text.replace('▁', ' ')  # Replace subword token separator with space for readability.\n",
        "\n",
        "print(generated_text)  # Output the generated text."
      ],
      "metadata": {
        "colab": {
          "base_uri": "https://localhost:8080/"
        },
        "id": "xYRA4ezrDQnd",
        "outputId": "0f04832d-3dd8-4dd3-a32b-eea6723ef4dc"
      },
      "execution_count": null,
      "outputs": [
        {
          "output_type": "stream",
          "name": "stdout",
          "text": [
            " i am a ghostesinging downs on the groundbut if i been king my lonesoh he came outmy drip me nowmy cup or ain't even all you had to play\n"
          ]
        }
      ]
    },
    {
      "cell_type": "code",
      "source": [
        "def print_num_params(model):\n",
        "    total_params = sum(p.numel() for p in model.parameters() if p.requires_grad)\n",
        "    print(f\"Number of trainable parameters: {total_params}\")\n",
        "\n",
        "# Print the number of trainable parameters\n",
        "print_num_params(model)"
      ],
      "metadata": {
        "id": "eGDzYdaSDT7M"
      },
      "execution_count": null,
      "outputs": []
    },
    {
      "cell_type": "code",
      "source": [
        "perplexity = calculate_perplexity(model, test_loader, loss_fn, device, 5002)\n",
        "\n",
        "# Print results\n",
        "print(f\"Perplexity of Model (Frankenstein): {perplexity:.2f}\")"
      ],
      "metadata": {
        "colab": {
          "base_uri": "https://localhost:8080/"
        },
        "id": "o-dxW-56DXEv",
        "outputId": "d45d2b3c-811f-4fe5-f1ee-2ba9fa6a3945"
      },
      "execution_count": null,
      "outputs": [
        {
          "output_type": "stream",
          "name": "stdout",
          "text": [
            "Perplexity of Model (Frankenstein): 15.60\n"
          ]
        }
      ]
    },
    {
      "cell_type": "code",
      "source": [
        "# Set up epoch range\n",
        "epochs = range(1, 6)\n",
        "\n",
        "# Create figure with specific size\n",
        "plt.figure(figsize=(12, 8))\n",
        "\n",
        "# Plot training and test losses on a logarithmic scale\n",
        "plt.subplot(2, 1, 1)\n",
        "plt.plot(epochs, train_losses, label='Training Loss', marker='o', color='blue')\n",
        "plt.plot(epochs, test_losses, label='Test Loss', marker='o', color='red')\n",
        "plt.title('Logarithmic Loss Over Epochs')\n",
        "plt.xlabel('Epoch')\n",
        "plt.ylabel('Log Loss')\n",
        "plt.legend()\n",
        "plt.grid()\n",
        "\n",
        "# Plot training times per epoch\n",
        "plt.subplot(2, 1, 2)\n",
        "plt.plot(epochs, time_list, label='Training Time', marker='o', color='green')\n",
        "plt.title('Training Time Per Epoch')\n",
        "plt.xlabel('Epoch')\n",
        "plt.ylabel('Time (seconds)')\n",
        "plt.legend()\n",
        "plt.grid()\n",
        "\n",
        "# Adjust layout and display the plot\n",
        "plt.tight_layout()\n",
        "plt.show()"
      ],
      "metadata": {
        "colab": {
          "base_uri": "https://localhost:8080/",
          "height": 807
        },
        "id": "QZWZ5owWDZNv",
        "outputId": "8357be61-95b7-4ea5-fe5b-ebba5fbd8589"
      },
      "execution_count": null,
      "outputs": [
        {
          "output_type": "display_data",
          "data": {
            "text/plain": [
              "<Figure size 1200x800 with 2 Axes>"
            ],
            "image/png": "[encoded data removed]"
          },
          "metadata": {}
        }
      ]
    },
    {
      "cell_type": "markdown",
      "source": [
        "## **Analysis**"
      ],
      "metadata": {
        "id": "SeeuYZG8bac1"
      }
    },
    {
      "cell_type": "code",
      "source": [
        "data = {\n",
        "    \"64\": {\n",
        "        \"Vanilla Transformer\": {\n",
        "            \"Training Time (s)\": 197.91,\n",
        "            \"Number of Parameters\": 2088074,\n",
        "            \"Perplexity\": 20.82\n",
        "        },\n",
        "        \"GQA\": {\n",
        "            \"Training Time (s)\": 155.88,\n",
        "            \"Number of Parameters\": 1939082,\n",
        "            \"Perplexity\": 22.85\n",
        "        },\n",
        "        \"MoD\": {\n",
        "            \"Training Time (s)\": 161.79,\n",
        "            \"Number of Parameters\": 2088586,\n",
        "            \"Perplexity\": 23.44\n",
        "        },\n",
        "        \"Frankenstein\": {\n",
        "            \"Training Time (s)\": 135.2,\n",
        "            \"Number of Parameters\": 1939594,\n",
        "            \"Perplexity\": 25.34\n",
        "        }\n",
        "    },\n",
        "    \"128\": {\n",
        "        \"Vanilla Transformer\": {\n",
        "            \"Training Time (s)\": 251.96,\n",
        "            \"Number of Parameters\": 2096266,\n",
        "            \"Perplexity\": 18.28\n",
        "        },\n",
        "        \"GQA\": {\n",
        "            \"Training Time (s)\": 169.28,\n",
        "            \"Number of Parameters\": 1947274,\n",
        "            \"Perplexity\": 20.54\n",
        "        },\n",
        "        \"MoD\": {\n",
        "            \"Training Time (s)\": 183.6,\n",
        "            \"Number of Parameters\": 2096778,\n",
        "            \"Perplexity\": 21.0\n",
        "        },\n",
        "        \"Frankenstein\": {\n",
        "            \"Training Time (s)\": 136.02,\n",
        "            \"Number of Parameters\": 1947786,\n",
        "            \"Perplexity\": 22.79\n",
        "        }\n",
        "    },\n",
        "    \"256\": {\n",
        "        \"Vanilla Transformer\": {\n",
        "            \"Training Time (s)\": 384.57,\n",
        "            \"Number of Parameters\": 2112650,\n",
        "            \"Perplexity\": 16.67\n",
        "        },\n",
        "        \"GQA\": {\n",
        "            \"Training Time (s)\": 205.75,\n",
        "            \"Number of Parameters\": 1963658,\n",
        "            \"Perplexity\": 17.9\n",
        "        },\n",
        "        \"MoD\": {\n",
        "            \"Training Time (s)\": 253.03,\n",
        "            \"Number of Parameters\": 2113162,\n",
        "            \"Perplexity\": 18.77\n",
        "        },\n",
        "        \"Frankenstein\": {\n",
        "            \"Training Time (s)\": 155.92,\n",
        "            \"Number of Parameters\": 1964170,\n",
        "            \"Perplexity\": 19.45\n",
        "        }\n",
        "    },\n",
        "    \"512\": {\n",
        "        \"Vanilla Transformer\": {\n",
        "            \"Training Time (s)\": 626.24,\n",
        "            \"Number of Parameters\": 2145418,\n",
        "            \"Perplexity\": 13.36\n",
        "        },\n",
        "        \"GQA\": {\n",
        "            \"Training Time (s)\": 239.83,\n",
        "            \"Number of Parameters\": 1996426,\n",
        "            \"Perplexity\": 14.28\n",
        "        },\n",
        "        \"MoD\": {\n",
        "            \"Training Time (s)\": 370.87,\n",
        "            \"Number of Parameters\": 2145930,\n",
        "            \"Perplexity\": 14.48\n",
        "        },\n",
        "        \"Frankenstein\": {\n",
        "            \"Training Time (s)\": 159.93,\n",
        "            \"Number of Parameters\": 1996938,\n",
        "            \"Perplexity\": 14.68\n",
        "        }\n",
        "    }\n",
        "}"
      ],
      "metadata": {
        "id": "wsR4VKITbfOS"
      },
      "execution_count": 46,
      "outputs": []
    },
    {
      "cell_type": "code",
      "source": [
        "# Re-calculate percentage errors based on the correct 'data'\n",
        "percentage_errors = {}\n",
        "for key, models in data.items():\n",
        "    vanilla = models.get('Vanilla Transformer')\n",
        "    if not vanilla:\n",
        "        continue  # skip if no Vanilla Transformer data\n",
        "    model_errors = {}\n",
        "    for model_name, model_data in models.items():\n",
        "        if model_name == 'Vanilla Transformer':\n",
        "            continue\n",
        "        model_error = {\n",
        "            metric: ((model_data[metric] - vanilla[metric]) / vanilla[metric]) * 100\n",
        "            for metric in model_data if metric != \"Number of Parameters\"\n",
        "        }\n",
        "        model_errors[model_name] = model_error\n",
        "    percentage_errors[key] = model_errors\n",
        "\n",
        "# Display the percentage errors\n",
        "for size, errors in percentage_errors.items():\n",
        "    print(f\"Size: {size}\")\n",
        "    for model, metrics in errors.items():\n",
        "        print(f\"  Model: {model}\")\n",
        "        for metric, error in metrics.items():\n",
        "            print(f\"    {metric}: {error:.2f}%\")\n",
        "    print()"
      ],
      "metadata": {
        "colab": {
          "base_uri": "https://localhost:8080/"
        },
        "id": "2ExEQ8ribirY",
        "outputId": "46dc9b41-0436-4587-99f9-7e4a924be22a"
      },
      "execution_count": 53,
      "outputs": [
        {
          "output_type": "stream",
          "name": "stdout",
          "text": [
            "Size: 64\n",
            "  Model: GQA\n",
            "    Training Time (s): -21.24%\n",
            "    Perplexity: 9.75%\n",
            "  Model: MoD\n",
            "    Training Time (s): -18.25%\n",
            "    Perplexity: 12.58%\n",
            "  Model: Frankenstein\n",
            "    Training Time (s): -31.69%\n",
            "    Perplexity: 21.71%\n",
            "\n",
            "Size: 128\n",
            "  Model: GQA\n",
            "    Training Time (s): -32.81%\n",
            "    Perplexity: 12.36%\n",
            "  Model: MoD\n",
            "    Training Time (s): -27.13%\n",
            "    Perplexity: 14.88%\n",
            "  Model: Frankenstein\n",
            "    Training Time (s): -46.02%\n",
            "    Perplexity: 24.67%\n",
            "\n",
            "Size: 256\n",
            "  Model: GQA\n",
            "    Training Time (s): -46.50%\n",
            "    Perplexity: 7.38%\n",
            "  Model: MoD\n",
            "    Training Time (s): -34.20%\n",
            "    Perplexity: 12.60%\n",
            "  Model: Frankenstein\n",
            "    Training Time (s): -59.46%\n",
            "    Perplexity: 16.68%\n",
            "\n",
            "Size: 512\n",
            "  Model: GQA\n",
            "    Training Time (s): -61.70%\n",
            "    Perplexity: 6.89%\n",
            "  Model: MoD\n",
            "    Training Time (s): -40.78%\n",
            "    Perplexity: 8.38%\n",
            "  Model: Frankenstein\n",
            "    Training Time (s): -74.46%\n",
            "    Perplexity: 9.88%\n",
            "\n"
          ]
        }
      ]
    },
    {
      "cell_type": "code",
      "source": [
        "import matplotlib.pyplot as plt\n",
        "\n",
        "# Prepare data for plotting\n",
        "sizes = ['64', '128', '256', '512']\n",
        "models = ['GQA', 'MoD', 'Frankenstein']\n",
        "colors_time = ['skyblue', 'deepskyblue', 'dodgerblue']\n",
        "colors_perplexity = ['lightgreen', 'limegreen', 'forestgreen']\n",
        "\n",
        "# Plotting\n",
        "fig, axes = plt.subplots(nrows=1, ncols=2, figsize=(14, 6))\n",
        "\n",
        "# Define offsets for each model to display side by side\n",
        "offsets = [-0.2, 0, 0.2]\n",
        "\n",
        "for offset, model, color in zip(offsets, models, colors_time):\n",
        "    positions = [x + offset for x in range(len(sizes))]\n",
        "    time_values = [percentage_errors[size][model]['Training Time (s)'] for size in sizes]\n",
        "    # Plot bars\n",
        "    axes[0].bar(positions, time_values, width=0.2, color=color, label=model)\n",
        "\n",
        "# Set x-axis ticks to the middle of each group and label with size values\n",
        "axes[0].set_xticks([i for i in range(len(sizes))])\n",
        "axes[0].set_xticklabels([f\"Size {size}\" for size in sizes])\n",
        "axes[0].set_xlabel('Model Size')\n",
        "axes[0].set_ylabel('Percentage Difference in Training Time')\n",
        "axes[0].set_title('Training Time Percentage Differences by Model Size')\n",
        "axes[0].legend()\n",
        "\n",
        "# Perplexity plot\n",
        "for offset, model, color in zip(offsets, models, colors_perplexity):\n",
        "    # Generate positions for each model's bars, adjusted for offsets\n",
        "    positions = [x + offset for x in range(len(sizes))]\n",
        "    # Fetch perplexity values\n",
        "    perplexity_values = [percentage_errors[size][model]['Perplexity'] for size in sizes]\n",
        "    # Plot bars\n",
        "    axes[1].bar(positions, perplexity_values, width=0.2, color=color, label=model)\n",
        "\n",
        "# Set x-axis ticks to the middle of each group and label with size values\n",
        "axes[1].set_xticks([i for i in range(len(sizes))])\n",
        "axes[1].set_xticklabels([f\"{size}\" for size in sizes])\n",
        "axes[1].set_xlabel('Model Size')\n",
        "axes[1].set_ylabel('Percentage Difference in Perplexity')\n",
        "axes[1].set_title('Perplexity Percentage Differences by Model Size')\n",
        "axes[1].legend()\n",
        "\n",
        "plt.tight_layout()\n",
        "plt.show()"
      ],
      "metadata": {
        "colab": {
          "base_uri": "https://localhost:8080/",
          "height": 602
        },
        "id": "jFp5vMIcaxRp",
        "outputId": "efb79b90-0204-4749-9a6f-0eefecddf42f"
      },
      "execution_count": 62,
      "outputs": [
        {
          "output_type": "display_data",
          "data": {
            "text/plain": [
              "<Figure size 1400x600 with 2 Axes>"
            ],
            "image/png": "[encoded data removed]"
          },
          "metadata": {}
        }
      ]
    },
    {
      "cell_type": "code",
      "source": [
        "import pandas as pd\n",
        "import statsmodels.api as sm\n",
        "import statsmodels.formula.api as smf\n",
        "\n",
        "# Construct the DataFrame\n",
        "data = {\n",
        "    'Model Size': ['64', '64', '64', '64', '128', '128', '128', '128', '256', '256', '256', '256', '512', '512', '512', '512'],\n",
        "    'Model': ['Vanilla Transformer', 'GQA', 'MoD', 'Frankenstein',\n",
        "              'Vanilla Transformer', 'GQA', 'MoD', 'Frankenstein',\n",
        "              'Vanilla Transformer', 'GQA', 'MoD', 'Frankenstein',\n",
        "              'Vanilla Transformer', 'GQA', 'MoD', 'Frankenstein'],\n",
        "    'Training Time': [197.91, 155.88, 161.79, 135.2, 251.96, 169.28, 183.6, 136.02, 384.57, 205.75, 253.03, 155.92, 626.24, 239.83, 370.87, 159.93],\n",
        "    'Perplexity': [20.82, 22.85, 23.44, 25.34, 18.28, 20.54, 21.0, 22.79, 16.67, 17.9, 18.77, 19.45, 13.36, 14.28, 14.48, 14.68]\n",
        "}\n",
        "\n",
        "df = pd.DataFrame(data)\n",
        "\n",
        "# Indicate presence of MoD and GQA in Frankenstein and other models\n",
        "df['MoD'] = ((df['Model'] == 'MoD') | (df['Model'] == 'Frankenstein')).astype(int)\n",
        "df['GQA'] = ((df['Model'] == 'GQA') | (df['Model'] == 'Frankenstein')).astype(int)\n",
        "\n",
        "# Convert 'Model Size' to numeric to use as a covariate\n",
        "df['Model Size'] = df['Model Size'].astype(int)"
      ],
      "metadata": {
        "id": "kXsEWNzgmR1v"
      },
      "execution_count": 112,
      "outputs": []
    },
    {
      "cell_type": "code",
      "source": [
        "# Fit the model\n",
        "model = smf.ols('Perplexity ~ MoD * GQA + Q(\"Model Size\")', data=df).fit()\n",
        "print(model.summary())"
      ],
      "metadata": {
        "colab": {
          "base_uri": "https://localhost:8080/"
        },
        "id": "rc7-e6R0gMts",
        "outputId": "97962b71-7a3b-48e1-ae6b-7aca15c54ef2"
      },
      "execution_count": 113,
      "outputs": [
        {
          "output_type": "stream",
          "name": "stdout",
          "text": [
            "                            OLS Regression Results                            \n",
            "==============================================================================\n",
            "Dep. Variable:             Perplexity   R-squared:                       0.957\n",
            "Model:                            OLS   Adj. R-squared:                  0.942\n",
            "Method:                 Least Squares   F-statistic:                     61.70\n",
            "Date:                Thu, 25 Apr 2024   Prob (F-statistic):           1.83e-07\n",
            "Time:                        18:51:31   Log-Likelihood:                -17.649\n",
            "No. Observations:                  16   AIC:                             45.30\n",
            "Df Residuals:                      11   BIC:                             49.16\n",
            "Df Model:                           4                                         \n",
            "Covariance Type:            nonrobust                                         \n",
            "===================================================================================\n",
            "                      coef    std err          t      P>|t|      [0.025      0.975]\n",
            "-----------------------------------------------------------------------------------\n",
            "Intercept          21.8219      0.537     40.671      0.000      20.641      23.003\n",
            "MoD                 2.1400      0.622      3.442      0.006       0.771       3.509\n",
            "GQA                 1.6100      0.622      2.589      0.025       0.241       2.979\n",
            "MoD:GQA            -0.4675      0.879     -0.532      0.606      -2.403       1.468\n",
            "Q(\"Model Size\")    -0.0189      0.001    -14.762      0.000      -0.022      -0.016\n",
            "==============================================================================\n",
            "Omnibus:                        1.058   Durbin-Watson:                   1.699\n",
            "Prob(Omnibus):                  0.589   Jarque-Bera (JB):                0.932\n",
            "Skew:                           0.416   Prob(JB):                        0.628\n",
            "Kurtosis:                       2.160   Cond. No.                     1.55e+03\n",
            "==============================================================================\n",
            "\n",
            "Notes:\n",
            "[1] Standard Errors assume that the covariance matrix of the errors is correctly specified.\n",
            "[2] The condition number is large, 1.55e+03. This might indicate that there are\n",
            "strong multicollinearity or other numerical problems.\n"
          ]
        },
        {
          "output_type": "stream",
          "name": "stderr",
          "text": [
            "/usr/local/lib/python3.10/dist-packages/scipy/stats/_stats_py.py:1806: UserWarning: kurtosistest only valid for n>=20 ... continuing anyway, n=16\n",
            "  warnings.warn(\"kurtosistest only valid for n>=20 ... continuing \"\n"
          ]
        }
      ]
    },
    {
      "cell_type": "code",
      "source": [
        "# Fit the model\n",
        "model = smf.ols('Q(\"Training Time\") ~ MoD * GQA + Q(\"Model Size\")', data=df).fit()\n",
        "\n",
        "print(model.summary())"
      ],
      "metadata": {
        "colab": {
          "base_uri": "https://localhost:8080/"
        },
        "id": "bEHKUi5KjZDB",
        "outputId": "7bd06f09-b5b9-4682-d10d-e88c34bdb368"
      },
      "execution_count": 114,
      "outputs": [
        {
          "output_type": "stream",
          "name": "stdout",
          "text": [
            "                            OLS Regression Results                            \n",
            "==============================================================================\n",
            "Dep. Variable:     Q(\"Training Time\")   R-squared:                       0.769\n",
            "Model:                            OLS   Adj. R-squared:                  0.685\n",
            "Method:                 Least Squares   F-statistic:                     9.140\n",
            "Date:                Thu, 25 Apr 2024   Prob (F-statistic):            0.00166\n",
            "Time:                        18:51:39   Log-Likelihood:                -88.145\n",
            "No. Observations:                  16   AIC:                             186.3\n",
            "Df Residuals:                      11   BIC:                             190.2\n",
            "Df Model:                           4                                         \n",
            "Covariance Type:            nonrobust                                         \n",
            "===================================================================================\n",
            "                      coef    std err          t      P>|t|      [0.025      0.975]\n",
            "-----------------------------------------------------------------------------------\n",
            "Intercept         264.0711     43.966      6.006      0.000     167.302     360.840\n",
            "MoD              -122.8475     50.953     -2.411      0.035    -234.994     -10.701\n",
            "GQA              -172.4850     50.953     -3.385      0.006    -284.632     -60.338\n",
            "MoD:GQA            76.9300     72.058      1.068      0.309     -81.669     235.529\n",
            "Q(\"Model Size\")     0.4212      0.105      4.012      0.002       0.190       0.652\n",
            "==============================================================================\n",
            "Omnibus:                        1.657   Durbin-Watson:                   2.432\n",
            "Prob(Omnibus):                  0.437   Jarque-Bera (JB):                0.384\n",
            "Skew:                           0.311   Prob(JB):                        0.825\n",
            "Kurtosis:                       3.436   Cond. No.                     1.55e+03\n",
            "==============================================================================\n",
            "\n",
            "Notes:\n",
            "[1] Standard Errors assume that the covariance matrix of the errors is correctly specified.\n",
            "[2] The condition number is large, 1.55e+03. This might indicate that there are\n",
            "strong multicollinearity or other numerical problems.\n"
          ]
        },
        {
          "output_type": "stream",
          "name": "stderr",
          "text": [
            "/usr/local/lib/python3.10/dist-packages/scipy/stats/_stats_py.py:1806: UserWarning: kurtosistest only valid for n>=20 ... continuing anyway, n=16\n",
            "  warnings.warn(\"kurtosistest only valid for n>=20 ... continuing \"\n"
          ]
        }
      ]
    },
    {
      "cell_type": "code",
      "source": [
        "# Data for 512 context model\n",
        "training_time_mod = 370.87\n",
        "training_time_gqa = 239.83\n",
        "training_time_frankenstein = 159.93\n",
        "\n",
        "perplexity_mod = 14.48\n",
        "perplexity_gqa = 14.28\n",
        "perplexity_frankenstein = 14.68\n",
        "\n",
        "# Calculate percentage faster\n",
        "percentage_faster_mod = ((training_time_mod - training_time_frankenstein) / training_time_mod) * 100\n",
        "percentage_faster_gqa = ((training_time_gqa - training_time_frankenstein) / training_time_gqa) * 100\n",
        "\n",
        "# Calculate percentage higher perplexity\n",
        "percentage_higher_perplexity_mod = ((perplexity_frankenstein - perplexity_mod) / perplexity_mod) * 100\n",
        "percentage_higher_perplexity_gqa = ((perplexity_frankenstein - perplexity_gqa) / perplexity_gqa) * 100\n",
        "\n",
        "percentage_faster_mod, percentage_faster_gqa, percentage_higher_perplexity_mod, percentage_higher_perplexity_gqa"
      ],
      "metadata": {
        "colab": {
          "base_uri": "https://localhost:8080/"
        },
        "id": "qmkGV5BroX63",
        "outputId": "42196111-c2c4-4660-fb03-25521289eb66"
      },
      "execution_count": 115,
      "outputs": [
        {
          "output_type": "execute_result",
          "data": {
            "text/plain": [
              "(56.877072828754, 33.31526497936038, 1.3812154696132548, 2.801120448179274)"
            ]
          },
          "metadata": {},
          "execution_count": 115
        }
      ]
    },
    {
      "cell_type": "markdown",
      "source": [
        "## **Race**"
      ],
      "metadata": {
        "id": "_I-1peTaoZpQ"
      }
    },
    {
      "cell_type": "code",
      "source": [
        "import torch\n",
        "import torch.nn as nn\n",
        "import torch.optim as optim\n",
        "from datetime import datetime\n",
        "\n",
        "loss_fn = nn.CrossEntropyLoss().to(device)\n",
        "epochs = 4\n",
        "\n",
        "# Define specific configuration classes\n",
        "class Config2:\n",
        "    max_sequence_length = 512\n",
        "    num_tokens = 5002\n",
        "    d_model = 128\n",
        "    query_heads = 8\n",
        "    kv_heads = 2\n",
        "    dim_feedforward = 512\n",
        "    num_layers = 4\n",
        "    mod_capacity_factor = 1\n",
        "    mod_reduced = 1\n",
        "\n",
        "class Config4:\n",
        "    max_sequence_length = 512\n",
        "    num_tokens = 5002\n",
        "    d_model = 128\n",
        "    query_heads = 8\n",
        "    kv_heads = 2\n",
        "    dim_feedforward = 512\n",
        "    num_layers = 4\n",
        "    mod_capacity_factor = 1\n",
        "    mod_reduced = 0.25\n",
        "\n",
        "selected_configs = [Config2, Config4]\n",
        "performance_records = {Config: [] for Config in selected_configs}\n",
        "\n",
        "# Training loop for each configuration class\n",
        "for Config in selected_configs:\n",
        "    model = Frankenstein(Config()).to(device)\n",
        "    optimizer = optim.Adam(model.parameters(), lr=0.001)\n",
        "\n",
        "    start_time = datetime.now()  # Time measurement starts here\n",
        "\n",
        "    for epoch in range(epochs):\n",
        "        model.train()\n",
        "\n",
        "        for batch_index, (inputs, targets) in enumerate(train_loader):\n",
        "            inputs, targets = inputs.to(device), targets.to(device)\n",
        "            optimizer.zero_grad()\n",
        "            output, aux_loss = model(inputs)\n",
        "            output = output.reshape(-1, Config.num_tokens)\n",
        "            targets = targets.reshape(-1)\n",
        "            loss = loss_fn(output, targets) + aux_loss\n",
        "            loss.backward()\n",
        "            optimizer.step()\n",
        "\n",
        "            elapsed_time = (datetime.now() - start_time).total_seconds()  # Time since start of training\n",
        "            performance_records[Config].append((elapsed_time, loss.item()))  # Record the exact loss and time"
      ],
      "metadata": {
        "id": "4-TSf91u2g5J"
      },
      "execution_count": 20,
      "outputs": []
    },
    {
      "cell_type": "code",
      "source": [
        "import matplotlib.pyplot as plt\n",
        "import numpy as np\n",
        "\n",
        "def moving_average(data, window_size=10):\n",
        "    \"\"\" Calculate the moving average using a simple window approach, padding the data to handle edges. \"\"\"\n",
        "    extended_data = np.pad(data, (window_size//2, window_size-1-window_size//2), mode='edge')\n",
        "    window = np.ones(window_size) / window_size\n",
        "    smoothed_data = np.convolve(extended_data, window, mode='valid')\n",
        "    return smoothed_data\n",
        "\n",
        "# Set the window size for the moving average\n",
        "window_size = 10\n",
        "\n",
        "plt.figure(figsize=(10, 5))\n",
        "plt.title('Smoothed Batch Loss over Time for Various Configurations')\n",
        "plt.xlabel('Elapsed Time (sec)')\n",
        "plt.ylabel('Batch Loss')\n",
        "plt.grid(True)\n",
        "plt.ylim(0, 10)\n",
        "\n",
        "colors = ['b', 'g']  # Example colors for two configurations\n",
        "\n",
        "# Example of accessing the records and plotting them:\n",
        "for idx, (Config, records) in enumerate(performance_records.items()):\n",
        "    # Extract the time and loss data for plotting\n",
        "    times = [record[0] for record in records]\n",
        "    losses = [record[1] for record in records]\n",
        "\n",
        "    # Apply moving average to smooth the losses\n",
        "    smoothed_losses = moving_average(losses, window_size=window_size)\n",
        "\n",
        "    # Plot on the same figure with different colors\n",
        "    plt.plot(times, smoothed_losses, linestyle='-', color=colors[idx % len(colors)], label=f'KV Heads = {Config.kv_heads}, Mod Reduced = {Config.mod_reduced}')\n",
        "\n",
        "# Add a legend to the plot to distinguish configurations\n",
        "plt.legend()\n",
        "\n",
        "# Show the plot\n",
        "plt.show()"
      ],
      "metadata": {
        "colab": {
          "base_uri": "https://localhost:8080/",
          "height": 487
        },
        "id": "ZGZOnjsC9iCd",
        "outputId": "a8f5830a-2dd2-48e7-ac3a-63afe24071e7"
      },
      "execution_count": 37,
      "outputs": [
        {
          "output_type": "display_data",
          "data": {
            "text/plain": [
              "<Figure size 1000x500 with 1 Axes>"
            ],
            "image/png": "[encoded data removed]"
          },
          "metadata": {}
        }
      ]
    },
    {
      "cell_type": "code",
      "source": [
        "config1_data = performance_records[next(iter(performance_records))]  # This gets the first config's data\n",
        "\n",
        "# Extract only the loss values\n",
        "losses = [record[1] for record in config1_data]\n",
        "\n",
        "# Calculate the 10th percentile of these loss values\n",
        "tenth_percentile = np.percentile(losses, 10)\n",
        "\n",
        "print(f\"The 10th percentile of batch loss for the first configuration is: {tenth_percentile}\")"
      ],
      "metadata": {
        "colab": {
          "base_uri": "https://localhost:8080/"
        },
        "id": "ZM2dSyuZ-MTt",
        "outputId": "7b60b7fc-3b66-41db-e9c9-982c04e6098c"
      },
      "execution_count": 55,
      "outputs": [
        {
          "output_type": "stream",
          "name": "stdout",
          "text": [
            "The 10th percentile of batch loss for the first configuration is: 2.5309324741363524\n"
          ]
        }
      ]
    },
    {
      "cell_type": "code",
      "source": [
        "import matplotlib.pyplot as plt\n",
        "import numpy as np\n",
        "\n",
        "def moving_average(data, window_size=10):\n",
        "    \"\"\" Calculate the moving average using a simple window approach, padding the data to handle edges. \"\"\"\n",
        "    extended_data = np.pad(data, (window_size//2, window_size-1-window_size//2), mode='edge')\n",
        "    window = np.ones(window_size) / window_size\n",
        "    smoothed_data = np.convolve(extended_data, window, mode='valid')\n",
        "    return smoothed_data\n",
        "\n",
        "# Set the window size for the moving average\n",
        "window_size = 10\n",
        "\n",
        "# Calculate and report when losses drop below the 10th percentile\n",
        "for Config, records in performance_records.items():\n",
        "    # Extract the time and loss data for plotting\n",
        "    times = [record[0] for record in records]\n",
        "    losses = [record[1] for record in records]\n",
        "\n",
        "    # Apply moving average to smooth the losses\n",
        "    smoothed_losses = moving_average(losses, window_size=window_size)\n",
        "\n",
        "    # Find the first time when the smoothed loss is below this percentile\n",
        "    first_below_percentile = next((time for time, loss in zip(times, smoothed_losses) if loss < tenth_percentile), None)\n",
        "\n",
        "    # Output the results\n",
        "    print(f\"For {Config.__name__}, the first time the smoothed losses drop below the 10th percentile ({tenth_percentile:.2f}) is at time {first_below_percentile} seconds.\")"
      ],
      "metadata": {
        "colab": {
          "base_uri": "https://localhost:8080/"
        },
        "id": "dnSDI_ZP9T37",
        "outputId": "ca8d28b7-3140-4081-a591-6a0609a32acc"
      },
      "execution_count": 56,
      "outputs": [
        {
          "output_type": "stream",
          "name": "stdout",
          "text": [
            "For Config2, the first time the smoothed losses drop below the 10th percentile (2.53) is at time 292.01159 seconds.\n",
            "For Config4, the first time the smoothed losses drop below the 10th percentile (2.53) is at time 213.745357 seconds.\n"
          ]
        }
      ]
    },
    {
      "cell_type": "code",
      "source": [
        "time_config2 = 292.01159\n",
        "time_config4 = 213.745357\n",
        "\n",
        "# Calculate the average of the two times\n",
        "average_time = (time_config2 + time_config4) / 2\n",
        "\n",
        "# Calculate the absolute percentage difference\n",
        "percentage_difference = abs((time_config2 - time_config4) / average_time) * 100\n",
        "\n",
        "print(f\"The percentage difference in time between Config2 and Config4 is: {percentage_difference:.2f}%\")"
      ],
      "metadata": {
        "colab": {
          "base_uri": "https://localhost:8080/"
        },
        "id": "DegwbDsI_CLr",
        "outputId": "1157194a-7e29-4da3-a53a-daab4243e980"
      },
      "execution_count": 57,
      "outputs": [
        {
          "output_type": "stream",
          "name": "stdout",
          "text": [
            "The percentage difference in time between Config2 and Config4 is: 30.95%\n"
          ]
        }
      ]
    }
  ],
  "metadata": {
    "colab": {
      "collapsed_sections": [
        "ZwHQlKyqtd2r",
        "CRiGODMEgmyW",
        "-G9eRrfuj2p0",
        "x0DkFcA2onyg",
        "SxlvzCP1Gjf7",
        "sueaKjioRgPu"
      ],
      "machine_shape": "hm",
      "provenance": [],
      "toc_visible": true,
      "gpuType": "L4"
    },
    "kernelspec": {
      "display_name": "Python 3",
      "name": "python3"
    },
    "language_info": {
      "name": "python"
    },
    "accelerator": "GPU"
  },
  "nbformat": 4,
  "nbformat_minor": 0
}